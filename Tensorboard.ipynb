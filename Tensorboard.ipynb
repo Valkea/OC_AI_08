{
 "cells": [
  {
   "cell_type": "code",
   "execution_count": 2,
   "id": "07b0e004-9796-45d9-8df0-6833287a3571",
   "metadata": {
    "execution": {
     "iopub.execute_input": "2022-08-31T13:20:59.328583Z",
     "iopub.status.busy": "2022-08-31T13:20:59.328219Z",
     "iopub.status.idle": "2022-08-31T13:20:59.334284Z",
     "shell.execute_reply": "2022-08-31T13:20:59.333636Z",
     "shell.execute_reply.started": "2022-08-31T13:20:59.328558Z"
    },
    "tags": []
   },
   "outputs": [],
   "source": [
    "# Load the TensorBoard notebook extension\n",
    "%load_ext tensorboard"
   ]
  },
  {
   "cell_type": "code",
   "execution_count": 3,
   "id": "22fdfdfb-7e87-42eb-b8d8-fabd53b311f2",
   "metadata": {
    "execution": {
     "iopub.execute_input": "2022-08-31T13:21:02.236508Z",
     "iopub.status.busy": "2022-08-31T13:21:02.236143Z",
     "iopub.status.idle": "2022-08-31T13:21:05.254922Z",
     "shell.execute_reply": "2022-08-31T13:21:05.254258Z",
     "shell.execute_reply.started": "2022-08-31T13:21:02.236483Z"
    },
    "tags": []
   },
   "outputs": [
    {
     "data": {
      "text/html": [
       "\n",
       "      <iframe id=\"tensorboard-frame-d8de6343078e02be\" width=\"100%\" height=\"800\" frameborder=\"0\">\n",
       "      </iframe>\n",
       "      <script>\n",
       "        (function() {\n",
       "          const frame = document.getElementById(\"tensorboard-frame-d8de6343078e02be\");\n",
       "          const url = new URL(\"/\", window.location);\n",
       "          const port = 8000;\n",
       "          if (port) {\n",
       "            url.port = port;\n",
       "          }\n",
       "          frame.src = url;\n",
       "        })();\n",
       "      </script>\n",
       "    "
      ],
      "text/plain": [
       "<IPython.core.display.HTML object>"
      ]
     },
     "metadata": {},
     "output_type": "display_data"
    }
   ],
   "source": [
    "%tensorboard --logdir logs/fit --host \"0.0.0.0\" --port 8000"
   ]
  },
  {
   "cell_type": "code",
   "execution_count": 2,
   "id": "e14cd913-a943-4675-befd-a5562f7cfc50",
   "metadata": {
    "execution": {
     "iopub.execute_input": "2022-08-29T20:55:18.518103Z",
     "iopub.status.busy": "2022-08-29T20:55:18.517721Z",
     "iopub.status.idle": "2022-08-29T20:55:21.537514Z",
     "shell.execute_reply": "2022-08-29T20:55:21.536860Z",
     "shell.execute_reply.started": "2022-08-29T20:55:18.518078Z"
    },
    "tags": []
   },
   "outputs": [
    {
     "data": {
      "text/html": [
       "\n",
       "      <iframe id=\"tensorboard-frame-e35256bb9916575e\" width=\"100%\" height=\"800\" frameborder=\"0\">\n",
       "      </iframe>\n",
       "      <script>\n",
       "        (function() {\n",
       "          const frame = document.getElementById(\"tensorboard-frame-e35256bb9916575e\");\n",
       "          const url = new URL(\"/\", window.location);\n",
       "          const port = 8000;\n",
       "          if (port) {\n",
       "            url.port = port;\n",
       "          }\n",
       "          frame.src = url;\n",
       "        })();\n",
       "      </script>\n",
       "    "
      ],
      "text/plain": [
       "<IPython.core.display.HTML object>"
      ]
     },
     "metadata": {},
     "output_type": "display_data"
    }
   ],
   "source": [
    "%tensorboard --logdir autoalbument/outputs --host \"0.0.0.0\" --port 8000"
   ]
  },
  {
   "cell_type": "markdown",
   "id": "90473d44-4f76-46f9-b445-b93901a27a0d",
   "metadata": {},
   "source": [
    "https://w-valke-ocai08-875dccd6010f438fb64a0204f2e9ac20.community.saturnenterprise.io:8000/ <br>\n",
    "https://w-naaok-semanticsegmentation-ec42c2c3fd664254bc6b357fdaf67815.community.saturnenterprise.io:8000/"
   ]
  }
 ],
 "metadata": {
  "kernelspec": {
   "display_name": "saturn (Python 3)",
   "language": "python",
   "name": "python3"
  },
  "language_info": {
   "codemirror_mode": {
    "name": "ipython",
    "version": 3
   },
   "file_extension": ".py",
   "mimetype": "text/x-python",
   "name": "python",
   "nbconvert_exporter": "python",
   "pygments_lexer": "ipython3",
   "version": "3.9.13"
  }
 },
 "nbformat": 4,
 "nbformat_minor": 5
}
