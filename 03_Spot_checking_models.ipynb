{
 "cells": [
  {
   "cell_type": "code",
   "execution_count": 84,
   "id": "00810078-7a6c-4a37-a422-3242952579fc",
   "metadata": {
    "tags": []
   },
   "outputs": [],
   "source": [
    "import glob\n",
    "import math\n",
    "import pathlib\n",
    "import datetime\n",
    "\n",
    "import numpy as np\n",
    "from PIL import Image\n",
    "import matplotlib.pyplot as plt\n",
    "\n",
    "import albumentations as A\n",
    "import segmentation_models as sm\n",
    "import tensorflow as tf\n",
    "from tensorflow import keras\n",
    "from keras import layers\n",
    "\n",
    "# set random seed for reproductibility\n",
    "random_seed = 0\n",
    "np.random.seed(random_seed)\n",
    "\n",
    "try:\n",
    "    keras.utils.set_random_seed(random_seed)\n",
    "except Exception:\n",
    "    tf.random.set_seed(random_seed)"
   ]
  },
  {
   "cell_type": "code",
   "execution_count": 2,
   "id": "f8fc28df-8213-4798-a11f-d09ba59080eb",
   "metadata": {
    "tags": []
   },
   "outputs": [
    {
     "name": "stdout",
     "output_type": "stream",
     "text": [
      "Num GPUs Available:  0\n"
     ]
    },
    {
     "name": "stderr",
     "output_type": "stream",
     "text": [
      "2022-08-25 22:36:08.195749: W tensorflow/stream_executor/platform/default/dso_loader.cc:64] Could not load dynamic library 'libcuda.so.1'; dlerror: libcuda.so.1: cannot open shared object file: No such file or directory; LD_LIBRARY_PATH: /home/valkea/Dev/OpenClassrooms/Projets_AI/P8/venvP8/lib/python3.8/site-packages/cv2/../../lib64:\n",
      "2022-08-25 22:36:08.195784: W tensorflow/stream_executor/cuda/cuda_driver.cc:269] failed call to cuInit: UNKNOWN ERROR (303)\n",
      "2022-08-25 22:36:08.195808: I tensorflow/stream_executor/cuda/cuda_diagnostics.cc:156] kernel driver does not appear to be running on this host (valkea-XPS): /proc/driver/nvidia/version does not exist\n"
     ]
    }
   ],
   "source": [
    "print(\"Num GPUs Available: \", len(tf.config.list_physical_devices('GPU')))"
   ]
  },
  {
   "cell_type": "code",
   "execution_count": 3,
   "id": "eb5b3401-cd93-4417-8e81-c1d55b6cfd11",
   "metadata": {
    "tags": []
   },
   "outputs": [
    {
     "data": {
      "text/plain": [
       "[]"
      ]
     },
     "execution_count": 3,
     "metadata": {},
     "output_type": "execute_result"
    }
   ],
   "source": [
    "tf.config.list_physical_devices('GPU')"
   ]
  },
  {
   "cell_type": "code",
   "execution_count": 4,
   "id": "d7a4c63c-dd2d-45c0-ae79-c1afa0147ae4",
   "metadata": {
    "tags": []
   },
   "outputs": [
    {
     "name": "stdout",
     "output_type": "stream",
     "text": [
      "zsh:1: command not found: nvidia-smi\n"
     ]
    }
   ],
   "source": [
    "!nvidia-smi -L"
   ]
  },
  {
   "cell_type": "markdown",
   "id": "2293b5a3-e484-4254-ba4f-e4e5b3b34eef",
   "metadata": {},
   "source": [
    "## Fonctions communes"
   ]
  },
  {
   "cell_type": "code",
   "execution_count": 18,
   "id": "79842543-53ca-4410-a40b-4835be2a39ce",
   "metadata": {
    "tags": []
   },
   "outputs": [],
   "source": [
    "def summarize_diagnostics(history):\n",
    "    \n",
    "    figure = plt.figure(figsize=(8,8))\n",
    "            \n",
    "    # plot loss\n",
    "    plt.subplot(211)\n",
    "    plt.title(f_loss.name.title())\n",
    "    plt.plot(history.history['loss'], color='blue', label='train')\n",
    "    plt.plot(history.history['val_loss'], color='orange', label='val')\n",
    "    plt.legend()\n",
    "    \n",
    "    # plot metric\n",
    "    plt.subplot(212)\n",
    "    plt.title('IoU scores')\n",
    "    plt.plot(history.history['iou_score'], color='blue', label='train')\n",
    "    plt.plot(history.history['val_iou_score'], color='orange', label='val')\n",
    "    plt.legend()\n",
    "    \n",
    "    # save plot to file\n",
    "    #filename = sys.argv[0].split('/')[-1]\n",
    "    #plt.savefig(filename + '_plot.png')\n",
    "    #plt.close()\n",
    "    \n",
    "    plt.tight_layout(pad=1.0)"
   ]
  },
  {
   "cell_type": "markdown",
   "id": "1786e431-7862-4620-8b4f-ab5501c7f6b8",
   "metadata": {},
   "source": [
    "### DataGenerator"
   ]
  },
  {
   "cell_type": "code",
   "execution_count": 5,
   "id": "aa16eb13-6a38-4c89-8355-e1fe3724ac53",
   "metadata": {
    "tags": []
   },
   "outputs": [],
   "source": [
    "class CustomDataGenerator(keras.utils.Sequence):\n",
    "    # We use Sequence as parent class, because Sequence are a safer way to do multiprocessing.\n",
    "    # This structure guarantees that the network will only train once on each sample per epoch which is not the case with generators.\n",
    "    \n",
    "    def __init__(self, datapath, batch_size, augmentation=None, preprocessing=None, shuffle=False, verbose=0, maxbatches=None, *args, **kwargs):\n",
    "        self.batch_size = batch_size\n",
    "        self.ids = [x[:-4] for x in glob.glob(f\"{datapath}/*[!_labels].png\")]\n",
    "        self.shuffle = shuffle\n",
    "        self.verbose = verbose\n",
    "        self.augmentation = augmentation\n",
    "        self.preprocessing = preprocessing\n",
    "        self.maxbatches = maxbatches\n",
    "        #print(len(self.ids), self.ids)\n",
    "        \n",
    "    def __len__(self):\n",
    "        # returns the number of batches\n",
    "        if self.maxbatches:\n",
    "            return min(self.maxbatches, math.ceil(len(self.ids) / self.batch_size))\n",
    "        else:\n",
    "            return math.ceil(len(self.ids) / self.batch_size)\n",
    "    \n",
    "    def __getitem__(self, index):\n",
    "        # returns one batch\n",
    "        \n",
    "        since = index * self.batch_size\n",
    "        until = (index+1) * self.batch_size\n",
    "        batch_ids = self.ids[since:until]\n",
    "        \n",
    "        images = []\n",
    "        labels = []\n",
    "        for source_id in batch_ids:\n",
    "            if self.verbose > 0:\n",
    "                print(source_id)\n",
    "            \n",
    "            x = np.array(Image.open(f\"{source_id}.png\"))            \n",
    "            y = np.array(Image.open(f\"{source_id}_labels.png\"))\n",
    "            \n",
    "            if self.augmentation:\n",
    "                augmented = self.augmentation(image=x, mask=y)\n",
    "                x, y = augmented['image'], augmented['mask']\n",
    "                \n",
    "            if self.preprocessing:\n",
    "                x = self.preprocessing(x)\n",
    "              \n",
    "            images.append(x/255.0) # normalize between 0 and 1 at the same time\n",
    "            #labels.append(y)\n",
    "            labels.append(keras.utils.to_categorical(y, 8))\n",
    "         \n",
    "        return np.array(images, dtype=float), np.array(labels, dtype=float)\n",
    "        \n",
    "    def on_epoch_end(self):\n",
    "        # logics run once at the very beginning and then at the end of each epoch\n",
    "        if self.shuffle:\n",
    "            return np.random.shuffle(self.ids) # /!\\ Is this really a good idea ????"
   ]
  },
  {
   "cell_type": "markdown",
   "id": "39107a78-5431-41e0-9789-129daecec0ef",
   "metadata": {},
   "source": [
    "### Callbacks"
   ]
  },
  {
   "cell_type": "code",
   "execution_count": 23,
   "id": "dd0ac9a8-01e6-496b-bd4e-a1b1dc2ed244",
   "metadata": {},
   "outputs": [],
   "source": [
    "from keras.callbacks import ModelCheckpoint, EarlyStopping, ReduceLROnPlateau, TensorBoard\n",
    "\n",
    "def init_callbacks(model_name):\n",
    "\n",
    "    # Define savepoints\n",
    "    filepath = pathlib.Path(\"models\", f\"{model_name}.keras\")\n",
    "    checkpoint = ModelCheckpoint(\n",
    "        monitor=\"val_iou_score\",\n",
    "        mode=\"max\",\n",
    "        filepath=filepath,\n",
    "        save_best_only=True,\n",
    "        verbose=1,\n",
    "    )\n",
    "    \n",
    "    # Define TensorBoard logging\n",
    "    log_dir = f\"logs/fit/{model_name}_{datetime.datetime.now().strftime('%Y%m%d-%H%M%S')}\"\n",
    "    tensorboard = TensorBoard(\n",
    "        log_dir=log_dir,\n",
    "        histogram_freq=0,\n",
    "    )\n",
    "    \n",
    "    # Define Learning-Rate modification conditions\n",
    "    reduce_lr = ReduceLROnPlateau(\n",
    "        monitor='val_loss',\n",
    "        factor=0.2,\n",
    "        patience=3,\n",
    "        min_lr=0.001,\n",
    "    )\n",
    "\n",
    "    # Define EarlyStopping conditions\n",
    "    es = EarlyStopping(\n",
    "        monitor='val_loss',\n",
    "        mode='min',\n",
    "        patience=7,\n",
    "        min_delta=0.01, \n",
    "        restore_best_weights=True, \n",
    "        verbose=1,\n",
    "    )\n",
    "    \n",
    "    return [checkpoint, es, reduce_lr, tensorboard]"
   ]
  },
  {
   "cell_type": "markdown",
   "id": "06e59b13-de2c-41f2-99c0-d050d5cd8e68",
   "metadata": {},
   "source": [
    "# Modèle de référence"
   ]
  },
  {
   "cell_type": "markdown",
   "id": "7917aa57-d4da-47af-b349-a2110f79fbbc",
   "metadata": {},
   "source": [
    "### Préparons les training et validation sets **sans** notre CustomDataGenerators"
   ]
  },
  {
   "cell_type": "code",
   "execution_count": 26,
   "id": "b5805191-78ed-45d5-a6f2-908a4a4955de",
   "metadata": {
    "tags": []
   },
   "outputs": [],
   "source": [
    "batch_size = 8\n",
    "\n",
    "train_ds = CustomDataGenerator(\n",
    "    pathlib.Path('data','preprocessed','256x128', 'train'), \n",
    "    batch_size, \n",
    "    augmentation=None, # Pas d'augementations pour la baseline\n",
    "    # preprocessing=preprocess_input, \n",
    "    shuffle=True,\n",
    "    verbose=0,\n",
    "    maxbatches=100,\n",
    ")\n",
    "\n",
    "valid_ds = CustomDataGenerator(\n",
    "    pathlib.Path('data','preprocessed','256x128', 'val'), \n",
    "    batch_size, \n",
    "    augmentation=None, \n",
    "    # preprocessing=preprocess_input, \n",
    "    shuffle=True,\n",
    "    verbose=0,\n",
    "    maxbatches=100,\n",
    ")"
   ]
  },
  {
   "cell_type": "markdown",
   "id": "ef66c84a-7f5b-45f8-8e46-05a0cd56c26e",
   "metadata": {},
   "source": [
    "### Définissons notre modèle de référence\n",
    "> https://keras.io/examples/vision/oxford_pets_image_segmentation/"
   ]
  },
  {
   "cell_type": "code",
   "execution_count": 79,
   "id": "ba2b3a54-401f-4c57-a338-be0fe2b5e838",
   "metadata": {},
   "outputs": [],
   "source": [
    "def get_model(img_size, num_classes):\n",
    "    inputs = keras.Input(shape=img_size + (3,))\n",
    "\n",
    "    ### [First half of the network: downsampling inputs] ###\n",
    "\n",
    "    # Entry block\n",
    "    x = layers.Conv2D(32, 3, strides=2, padding=\"same\")(inputs)\n",
    "    x = layers.BatchNormalization()(x)\n",
    "    x = layers.Activation(\"relu\")(x)\n",
    "\n",
    "    previous_block_activation = x  # Set aside residual\n",
    "\n",
    "    # Blocks 1, 2, 3 are identical apart from the feature depth.\n",
    "    for filters in [64, 128, 256]:\n",
    "        x = layers.Activation(\"relu\")(x)\n",
    "        x = layers.SeparableConv2D(filters, 3, padding=\"same\")(x)\n",
    "        x = layers.BatchNormalization()(x)\n",
    "\n",
    "        x = layers.Activation(\"relu\")(x)\n",
    "        x = layers.SeparableConv2D(filters, 3, padding=\"same\")(x)\n",
    "        x = layers.BatchNormalization()(x)\n",
    "\n",
    "        x = layers.MaxPooling2D(3, strides=2, padding=\"same\")(x)\n",
    "\n",
    "        # Project residual\n",
    "        residual = layers.Conv2D(filters, 1, strides=2, padding=\"same\")(\n",
    "            previous_block_activation\n",
    "        )\n",
    "        x = layers.add([x, residual])  # Add back residual\n",
    "        previous_block_activation = x  # Set aside next residual\n",
    "\n",
    "    ### [Second half of the network: upsampling inputs] ###\n",
    "\n",
    "    for filters in [256, 128, 64, 32]:\n",
    "        x = layers.Activation(\"relu\")(x)\n",
    "        x = layers.Conv2DTranspose(filters, 3, padding=\"same\")(x)\n",
    "        x = layers.BatchNormalization()(x)\n",
    "\n",
    "        x = layers.Activation(\"relu\")(x)\n",
    "        x = layers.Conv2DTranspose(filters, 3, padding=\"same\")(x)\n",
    "        x = layers.BatchNormalization()(x)\n",
    "\n",
    "        x = layers.UpSampling2D(2)(x)\n",
    "\n",
    "        # Project residual\n",
    "        residual = layers.UpSampling2D(2)(previous_block_activation)\n",
    "        residual = layers.Conv2D(filters, 1, padding=\"same\")(residual)\n",
    "        x = layers.add([x, residual])  # Add back residual\n",
    "        previous_block_activation = x  # Set aside next residual\n",
    "\n",
    "    # Add a per-pixel classification layer\n",
    "    outputs = layers.Conv2D(num_classes, 3, activation=\"softmax\", padding=\"same\")(x)\n",
    "\n",
    "    # Define the model\n",
    "    model = keras.Model(inputs, outputs)\n",
    "    return model"
   ]
  },
  {
   "cell_type": "code",
   "execution_count": 81,
   "id": "695160e6-0be8-4720-97cc-a23cf87bd9bb",
   "metadata": {
    "tags": []
   },
   "outputs": [],
   "source": [
    "f_opti = keras.optimizers.Adam(learning_rate=0.0005)\n",
    "f_loss = keras.losses.CategoricalCrossentropy(from_logits=False)\n",
    "# f_loss = sm.losses.bce_jaccard_loss\n",
    "f_metrics = [sm.metrics.iou_score]\n",
    "\n",
    "#model = sm.Unet(BACKBONE, encoder_weights='imagenet', classes=8, activation='softmax')\n",
    "#model = unet_base(input_size=(128,256,3))\n",
    "model = get_model((128,256), 8)\n",
    "model.compile(\n",
    "    optimizer=f_opti,\n",
    "    loss=f_loss, # sm.losses.bce_jaccard_loss,\n",
    "    metrics=[sm.metrics.iou_score],\n",
    ")"
   ]
  },
  {
   "cell_type": "raw",
   "id": "b79e9f2d-25d0-4894-bf98-2e4c31c0be08",
   "metadata": {},
   "source": [
    "model.summary()"
   ]
  },
  {
   "cell_type": "code",
   "execution_count": 82,
   "id": "452dc5e0-2f9a-4451-813c-d95b39123396",
   "metadata": {
    "tags": []
   },
   "outputs": [
    {
     "name": "stdout",
     "output_type": "stream",
     "text": [
      "Epoch 1/5\n",
      "100/100 [==============================] - ETA: 0s - loss: 1.0969 - iou_score: 0.3280\n",
      "Epoch 1: val_iou_score improved from -inf to 0.07810, saving model to models/Unet - baseline.keras\n",
      "100/100 [==============================] - 134s 1s/step - loss: 1.0969 - iou_score: 0.3280 - val_loss: 1.9347 - val_iou_score: 0.0781 - lr: 5.0000e-04\n",
      "Epoch 2/5\n",
      "100/100 [==============================] - ETA: 0s - loss: 0.6445 - iou_score: 0.3980\n",
      "Epoch 2: val_iou_score did not improve from 0.07810\n",
      "100/100 [==============================] - 135s 1s/step - loss: 0.6445 - iou_score: 0.3980 - val_loss: 2.7698 - val_iou_score: 0.0454 - lr: 5.0000e-04\n",
      "Epoch 3/5\n",
      "100/100 [==============================] - ETA: 0s - loss: 0.5905 - iou_score: 0.4211\n",
      "Epoch 3: val_iou_score did not improve from 0.07810\n",
      "100/100 [==============================] - 141s 1s/step - loss: 0.5905 - iou_score: 0.4211 - val_loss: 2.2817 - val_iou_score: 0.0730 - lr: 5.0000e-04\n",
      "Epoch 4/5\n",
      "100/100 [==============================] - ETA: 0s - loss: 0.5668 - iou_score: 0.4326\n",
      "Epoch 4: val_iou_score improved from 0.07810 to 0.10106, saving model to models/Unet - baseline.keras\n",
      "100/100 [==============================] - 140s 1s/step - loss: 0.5668 - iou_score: 0.4326 - val_loss: 2.0053 - val_iou_score: 0.1011 - lr: 5.0000e-04\n",
      "Epoch 5/5\n",
      "100/100 [==============================] - ETA: 0s - loss: 0.5437 - iou_score: 0.4440\n",
      "Epoch 5: val_iou_score improved from 0.10106 to 0.16556, saving model to models/Unet - baseline.keras\n",
      "100/100 [==============================] - 141s 1s/step - loss: 0.5437 - iou_score: 0.4440 - val_loss: 1.4879 - val_iou_score: 0.1656 - lr: 5.0000e-04\n"
     ]
    }
   ],
   "source": [
    "history = model.fit(\n",
    "    train_ds,\n",
    "    validation_data=valid_ds,\n",
    "    epochs=5,\n",
    "    batch_size=batch_size,\n",
    "    callbacks=init_callbacks(\"Unet - baseline\"),\n",
    "    # validation_split=0.2\n",
    ")"
   ]
  },
  {
   "cell_type": "code",
   "execution_count": 85,
   "id": "eed40aa3-9a0f-4a26-839b-bc139167af33",
   "metadata": {
    "tags": []
   },
   "outputs": [
    {
     "data": {
      "image/png": "[encoded data removed]",
      "text/plain": [
       "<Figure size 800x800 with 2 Axes>"
      ]
     },
     "metadata": {},
     "output_type": "display_data"
    }
   ],
   "source": [
    "summarize_diagnostics(history)"
   ]
  },
  {
   "cell_type": "code",
   "execution_count": null,
   "id": "b175839e-5bb6-466d-bcab-437f00df9fd8",
   "metadata": {},
   "outputs": [],
   "source": []
  },
  {
   "cell_type": "markdown",
   "id": "2196aead-be52-4696-8d4b-f228003f6c0e",
   "metadata": {},
   "source": [
    "# Modèle autre"
   ]
  },
  {
   "cell_type": "markdown",
   "id": "d28892dd-083d-4a7f-8d1c-b418b1d6d37c",
   "metadata": {},
   "source": [
    "### Définissons un pré-processing"
   ]
  },
  {
   "cell_type": "code",
   "execution_count": null,
   "id": "8f245dbd-74c3-4b7d-a248-4e475965525e",
   "metadata": {
    "tags": []
   },
   "outputs": [],
   "source": [
    "BACKBONE = 'vgg16'\n",
    "preprocess_input = sm.get_preprocessing(BACKBONE)"
   ]
  },
  {
   "cell_type": "markdown",
   "id": "1c0fdf32-e2fe-4d14-88b4-bb95e1e2b8b0",
   "metadata": {},
   "source": [
    "### Préparons les training et validation sets avec notre CustomDataGenerator"
   ]
  },
  {
   "cell_type": "code",
   "execution_count": 25,
   "id": "d34ea6d3-8b6e-4854-bb62-195e188bc5ad",
   "metadata": {
    "tags": []
   },
   "outputs": [],
   "source": [
    "transform1 = A.Compose([\n",
    "    # A.RandomCrop(width=100, height=100),\n",
    "    A.HorizontalFlip(p=0.5),\n",
    "    # A.VerticalFlip(p=0.5),\n",
    "    # A.RandomRotate90(p=0.5),\n",
    "    A.Rotate(15, p=0.5),\n",
    "    # A.Transpose(p=0.5),\n",
    "    A.RandomBrightnessContrast(p=0.2),\n",
    "    A.Blur(p=0.01, blur_limit = 3),\n",
    "    # A.OneOf([\n",
    "    #        A.ElasticTransform(p=0.5, alpha=120, sigma=120 * 0.05, alpha_affine=120 * 0.03),\n",
    "    #        A.GridDistortion(p=0.5),\n",
    "    #        A.OpticalDistortion(p=1, distort_limit=2, shift_limit=0.5)                  \n",
    "    # ], p=0.5)\n",
    "])"
   ]
  },
  {
   "cell_type": "code",
   "execution_count": 26,
   "id": "fe6034fd-b9c3-4f69-bf6c-b22008dd819e",
   "metadata": {
    "tags": []
   },
   "outputs": [],
   "source": [
    "batch_size = 8\n",
    "\n",
    "train_ds = CustomDataGenerator(\n",
    "    pathlib.Path('data','preprocessed','256x128', 'train'), \n",
    "    batch_size, \n",
    "    augmentation=None, # Pas d'augementations pour la baseline\n",
    "    preprocessing=preprocess_input, \n",
    "    shuffle=True,\n",
    "    verbose=0,\n",
    "    maxbatches=100,\n",
    ")\n",
    "\n",
    "valid_ds = CustomDataGenerator(\n",
    "    pathlib.Path('data','preprocessed','256x128', 'val'), \n",
    "    batch_size, \n",
    "    augmentation=None, \n",
    "    preprocessing=preprocess_input, \n",
    "    shuffle=True,\n",
    "    verbose=0,\n",
    "    maxbatches=100,\n",
    ")"
   ]
  },
  {
   "cell_type": "markdown",
   "id": "92f2afbc-1746-466a-b655-ea37a43c9470",
   "metadata": {},
   "source": [
    "### Définissons et entrainons un modèle"
   ]
  },
  {
   "cell_type": "code",
   "execution_count": 81,
   "id": "ba8f505e-f511-491c-9092-5c4a8c2d37d9",
   "metadata": {
    "tags": []
   },
   "outputs": [],
   "source": [
    "f_opti = keras.optimizers.Adam(learning_rate=0.0005)\n",
    "f_loss = keras.losses.CategoricalCrossentropy(from_logits=False)\n",
    "# f_loss = sm.losses.bce_jaccard_loss\n",
    "f_metrics = [sm.metrics.iou_score]\n",
    "\n",
    "model = sm.Unet(BACKBONE, encoder_weights='imagenet', classes=8, activation='softmax')\n",
    "model.compile(\n",
    "    optimizer=f_opti,\n",
    "    loss=f_loss, # sm.losses.bce_jaccard_loss,\n",
    "    metrics=[sm.metrics.iou_score],\n",
    ")"
   ]
  },
  {
   "cell_type": "raw",
   "id": "a1ede8be-9fd2-4a2d-8e17-fd7499b4e7cc",
   "metadata": {},
   "source": [
    "model.summary()"
   ]
  },
  {
   "cell_type": "code",
   "execution_count": null,
   "id": "c4288905-b117-42e7-954a-7b8867c1d7c7",
   "metadata": {
    "tags": []
   },
   "outputs": [
    {
     "name": "stdout",
     "output_type": "stream",
     "text": [
      "Epoch 1/5\n",
      "100/100 [==============================] - ETA: 0s - loss: 1.0969 - iou_score: 0.3280\n",
      "Epoch 1: val_iou_score improved from -inf to 0.07810, saving model to models/Unet - baseline.keras\n",
      "100/100 [==============================] - 134s 1s/step - loss: 1.0969 - iou_score: 0.3280 - val_loss: 1.9347 - val_iou_score: 0.0781 - lr: 5.0000e-04\n",
      "Epoch 2/5\n",
      "100/100 [==============================] - ETA: 0s - loss: 0.6445 - iou_score: 0.3980\n",
      "Epoch 2: val_iou_score did not improve from 0.07810\n",
      "100/100 [==============================] - 135s 1s/step - loss: 0.6445 - iou_score: 0.3980 - val_loss: 2.7698 - val_iou_score: 0.0454 - lr: 5.0000e-04\n",
      "Epoch 3/5\n",
      " 94/100 [===========================>..] - ETA: 7s - loss: 0.5919 - iou_score: 0.4201"
     ]
    }
   ],
   "source": [
    "history = model.fit(\n",
    "    train_ds,\n",
    "    validation_data=valid_ds,\n",
    "    epochs=5,\n",
    "    batch_size=batch_size,\n",
    "    callbacks=init_callbacks(\"Unet - baseline\"),\n",
    "    # validation_split=0.2\n",
    ")"
   ]
  },
  {
   "cell_type": "code",
   "execution_count": null,
   "id": "fcac3622-a3ab-4186-8d17-b2a422c84935",
   "metadata": {
    "tags": []
   },
   "outputs": [],
   "source": [
    "summarize_diagnostics(history)"
   ]
  },
  {
   "cell_type": "code",
   "execution_count": null,
   "id": "99efd1a4-0873-4858-8004-64b17fd7ca44",
   "metadata": {},
   "outputs": [],
   "source": []
  }
 ],
 "metadata": {
  "kernelspec": {
   "display_name": "venvP8",
   "language": "python",
   "name": "venvp8"
  },
  "language_info": {
   "codemirror_mode": {
    "name": "ipython",
    "version": 3
   },
   "file_extension": ".py",
   "mimetype": "text/x-python",
   "name": "python",
   "nbconvert_exporter": "python",
   "pygments_lexer": "ipython3",
   "version": "3.8.10"
  }
 },
 "nbformat": 4,
 "nbformat_minor": 5
}
