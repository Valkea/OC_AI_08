{
 "cells": [
  {
   "cell_type": "code",
   "execution_count": 1,
   "id": "00810078-7a6c-4a37-a422-3242952579fc",
   "metadata": {
    "execution": {
     "iopub.execute_input": "2022-08-26T09:29:38.987357Z",
     "iopub.status.busy": "2022-08-26T09:29:38.986953Z",
     "iopub.status.idle": "2022-08-26T09:29:41.675983Z",
     "shell.execute_reply": "2022-08-26T09:29:41.675351Z",
     "shell.execute_reply.started": "2022-08-26T09:29:38.987286Z"
    },
    "tags": []
   },
   "outputs": [
    {
     "name": "stderr",
     "output_type": "stream",
     "text": [
      "2022-08-26 09:29:40.140865: I tensorflow/core/util/util.cc:169] oneDNN custom operations are on. You may see slightly different numerical results due to floating-point round-off errors from different computation orders. To turn them off, set the environment variable `TF_ENABLE_ONEDNN_OPTS=0`.\n"
     ]
    },
    {
     "name": "stdout",
     "output_type": "stream",
     "text": [
      "Segmentation Models: using `keras` framework.\n"
     ]
    }
   ],
   "source": [
    "import glob\n",
    "import math\n",
    "import pathlib\n",
    "import datetime\n",
    "\n",
    "import numpy as np\n",
    "from PIL import Image\n",
    "import matplotlib.pyplot as plt\n",
    "\n",
    "import albumentations as A\n",
    "import segmentation_models as sm\n",
    "import tensorflow as tf\n",
    "from tensorflow import keras\n",
    "from keras import layers\n",
    "\n",
    "# set random seed for reproductibility\n",
    "random_seed = 0\n",
    "np.random.seed(random_seed)\n",
    "\n",
    "try:\n",
    "    keras.utils.set_random_seed(random_seed)\n",
    "except Exception:\n",
    "    tf.random.set_seed(random_seed)"
   ]
  },
  {
   "cell_type": "code",
   "execution_count": 3,
   "id": "f8fc28df-8213-4798-a11f-d09ba59080eb",
   "metadata": {
    "execution": {
     "iopub.execute_input": "2022-08-26T09:29:45.478072Z",
     "iopub.status.busy": "2022-08-26T09:29:45.477708Z",
     "iopub.status.idle": "2022-08-26T09:29:45.482335Z",
     "shell.execute_reply": "2022-08-26T09:29:45.481580Z",
     "shell.execute_reply.started": "2022-08-26T09:29:45.478050Z"
    },
    "tags": []
   },
   "outputs": [
    {
     "name": "stdout",
     "output_type": "stream",
     "text": [
      "Num GPUs Available:  1\n"
     ]
    }
   ],
   "source": [
    "print(\"Num GPUs Available: \", len(tf.config.list_physical_devices('GPU')))"
   ]
  },
  {
   "cell_type": "code",
   "execution_count": 4,
   "id": "eb5b3401-cd93-4417-8e81-c1d55b6cfd11",
   "metadata": {
    "execution": {
     "iopub.execute_input": "2022-08-26T09:29:47.553213Z",
     "iopub.status.busy": "2022-08-26T09:29:47.552842Z",
     "iopub.status.idle": "2022-08-26T09:29:47.562056Z",
     "shell.execute_reply": "2022-08-26T09:29:47.561331Z",
     "shell.execute_reply.started": "2022-08-26T09:29:47.553191Z"
    },
    "tags": []
   },
   "outputs": [
    {
     "data": {
      "text/plain": [
       "[PhysicalDevice(name='/physical_device:GPU:0', device_type='GPU')]"
      ]
     },
     "execution_count": 4,
     "metadata": {},
     "output_type": "execute_result"
    }
   ],
   "source": [
    "tf.config.list_physical_devices('GPU')"
   ]
  },
  {
   "cell_type": "code",
   "execution_count": 5,
   "id": "d7a4c63c-dd2d-45c0-ae79-c1afa0147ae4",
   "metadata": {
    "execution": {
     "iopub.execute_input": "2022-08-26T09:29:48.148981Z",
     "iopub.status.busy": "2022-08-26T09:29:48.148163Z",
     "iopub.status.idle": "2022-08-26T09:29:48.955092Z",
     "shell.execute_reply": "2022-08-26T09:29:48.954355Z",
     "shell.execute_reply.started": "2022-08-26T09:29:48.148948Z"
    },
    "tags": []
   },
   "outputs": [
    {
     "name": "stdout",
     "output_type": "stream",
     "text": [
      "GPU 0: Tesla T4 (UUID: GPU-bbd6bfc6-bff1-827c-28a7-86da63e1b953)\n"
     ]
    }
   ],
   "source": [
    "!nvidia-smi -L"
   ]
  },
  {
   "cell_type": "markdown",
   "id": "2293b5a3-e484-4254-ba4f-e4e5b3b34eef",
   "metadata": {},
   "source": [
    "## Fonctions communes"
   ]
  },
  {
   "cell_type": "code",
   "execution_count": 6,
   "id": "79842543-53ca-4410-a40b-4835be2a39ce",
   "metadata": {
    "execution": {
     "iopub.execute_input": "2022-08-26T09:29:50.341893Z",
     "iopub.status.busy": "2022-08-26T09:29:50.341374Z",
     "iopub.status.idle": "2022-08-26T09:29:50.350317Z",
     "shell.execute_reply": "2022-08-26T09:29:50.349584Z",
     "shell.execute_reply.started": "2022-08-26T09:29:50.341857Z"
    },
    "tags": []
   },
   "outputs": [],
   "source": [
    "def summarize_diagnostics(history):\n",
    "    \n",
    "    figure = plt.figure(figsize=(8,8))\n",
    "            \n",
    "    # plot loss\n",
    "    plt.subplot(211)\n",
    "    plt.title(f_loss.name.title())\n",
    "    plt.plot(history.history['loss'], color='blue', label='train')\n",
    "    plt.plot(history.history['val_loss'], color='orange', label='val')\n",
    "    plt.legend()\n",
    "    \n",
    "    # plot metric\n",
    "    plt.subplot(212)\n",
    "    plt.title('IoU scores')\n",
    "    plt.plot(history.history['iou_score'], color='blue', label='train')\n",
    "    plt.plot(history.history['val_iou_score'], color='orange', label='val')\n",
    "    plt.legend()\n",
    "    \n",
    "    # save plot to file\n",
    "    #filename = sys.argv[0].split('/')[-1]\n",
    "    #plt.savefig(filename + '_plot.png')\n",
    "    #plt.close()\n",
    "    \n",
    "    plt.tight_layout(pad=1.0)"
   ]
  },
  {
   "cell_type": "markdown",
   "id": "1786e431-7862-4620-8b4f-ab5501c7f6b8",
   "metadata": {},
   "source": [
    "### DataGenerator"
   ]
  },
  {
   "cell_type": "code",
   "execution_count": 7,
   "id": "aa16eb13-6a38-4c89-8355-e1fe3724ac53",
   "metadata": {
    "execution": {
     "iopub.execute_input": "2022-08-26T09:29:51.175248Z",
     "iopub.status.busy": "2022-08-26T09:29:51.174696Z",
     "iopub.status.idle": "2022-08-26T09:29:51.183618Z",
     "shell.execute_reply": "2022-08-26T09:29:51.183080Z",
     "shell.execute_reply.started": "2022-08-26T09:29:51.175227Z"
    },
    "tags": []
   },
   "outputs": [],
   "source": [
    "class CustomDataGenerator(keras.utils.Sequence):\n",
    "    # We use Sequence as parent class, because Sequence are a safer way to do multiprocessing.\n",
    "    # This structure guarantees that the network will only train once on each sample per epoch which is not the case with generators.\n",
    "    \n",
    "    def __init__(self, datapath, batch_size, augmentation=None, preprocessing=None, shuffle=False, verbose=0, maxbatches=None, *args, **kwargs):\n",
    "        self.batch_size = batch_size\n",
    "        self.ids = [x[:-4] for x in glob.glob(f\"{datapath}/*[!_labels].png\")]\n",
    "        self.shuffle = shuffle\n",
    "        self.verbose = verbose\n",
    "        self.augmentation = augmentation\n",
    "        self.preprocessing = preprocessing\n",
    "        self.maxbatches = maxbatches\n",
    "        #print(len(self.ids), self.ids)\n",
    "        \n",
    "    def __len__(self):\n",
    "        # returns the number of batches\n",
    "        if self.maxbatches:\n",
    "            return min(self.maxbatches, math.ceil(len(self.ids) / self.batch_size))\n",
    "        else:\n",
    "            return math.ceil(len(self.ids) / self.batch_size)\n",
    "    \n",
    "    def __getitem__(self, index):\n",
    "        # returns one batch\n",
    "        \n",
    "        since = index * self.batch_size\n",
    "        until = (index+1) * self.batch_size\n",
    "        batch_ids = self.ids[since:until]\n",
    "        \n",
    "        images = []\n",
    "        labels = []\n",
    "        for source_id in batch_ids:\n",
    "            if self.verbose > 0:\n",
    "                print(source_id)\n",
    "            \n",
    "            x = np.array(Image.open(f\"{source_id}.png\"))            \n",
    "            y = np.array(Image.open(f\"{source_id}_labels.png\"))\n",
    "            \n",
    "            if self.augmentation:\n",
    "                augmented = self.augmentation(image=x, mask=y)\n",
    "                x, y = augmented['image'], augmented['mask']\n",
    "                \n",
    "            if self.preprocessing:\n",
    "                x = self.preprocessing(x)\n",
    "              \n",
    "            images.append(x/255.0) # normalize between 0 and 1 at the same time\n",
    "            #labels.append(y)\n",
    "            labels.append(keras.utils.to_categorical(y, 8))\n",
    "         \n",
    "        return np.array(images, dtype=float), np.array(labels, dtype=float)\n",
    "        \n",
    "    def on_epoch_end(self):\n",
    "        # logics run once at the very beginning and then at the end of each epoch\n",
    "        if self.shuffle:\n",
    "            return np.random.shuffle(self.ids) # /!\\ Is this really a good idea ????"
   ]
  },
  {
   "cell_type": "markdown",
   "id": "39107a78-5431-41e0-9789-129daecec0ef",
   "metadata": {},
   "source": [
    "### Callbacks"
   ]
  },
  {
   "cell_type": "code",
   "execution_count": 8,
   "id": "dd0ac9a8-01e6-496b-bd4e-a1b1dc2ed244",
   "metadata": {
    "execution": {
     "iopub.execute_input": "2022-08-26T09:29:52.129496Z",
     "iopub.status.busy": "2022-08-26T09:29:52.129106Z",
     "iopub.status.idle": "2022-08-26T09:29:52.135156Z",
     "shell.execute_reply": "2022-08-26T09:29:52.134427Z",
     "shell.execute_reply.started": "2022-08-26T09:29:52.129456Z"
    },
    "tags": []
   },
   "outputs": [],
   "source": [
    "from keras.callbacks import ModelCheckpoint, EarlyStopping, ReduceLROnPlateau, TensorBoard\n",
    "\n",
    "def init_callbacks(model_name):\n",
    "\n",
    "    # Define savepoints\n",
    "    filepath = pathlib.Path(\"models\", f\"{model_name}.keras\")\n",
    "    checkpoint = ModelCheckpoint(\n",
    "        monitor=\"val_iou_score\",\n",
    "        mode=\"max\",\n",
    "        filepath=filepath,\n",
    "        save_best_only=True,\n",
    "        verbose=1,\n",
    "    )\n",
    "    \n",
    "    # Define TensorBoard logging\n",
    "    log_dir = f\"logs/fit/{model_name}_{datetime.datetime.now().strftime('%Y%m%d-%H%M')}\"\n",
    "    tensorboard = TensorBoard(\n",
    "        log_dir=log_dir,\n",
    "        histogram_freq=0,\n",
    "    )\n",
    "    \n",
    "    # Define Learning-Rate modification conditions\n",
    "    reduce_lr = ReduceLROnPlateau(\n",
    "        monitor='val_loss',\n",
    "        factor=0.2,\n",
    "        patience=4,\n",
    "        # min_lr=0.001,\n",
    "        verbose=1,\n",
    "    )\n",
    "\n",
    "    # Define EarlyStopping conditions\n",
    "    es = EarlyStopping(\n",
    "        monitor='val_loss',\n",
    "        mode='min',\n",
    "        patience=9,\n",
    "        min_delta=0.01, \n",
    "        restore_best_weights=True, \n",
    "        verbose=1,\n",
    "    )\n",
    "    \n",
    "    return [checkpoint, es, reduce_lr, tensorboard]"
   ]
  },
  {
   "cell_type": "markdown",
   "id": "06e59b13-de2c-41f2-99c0-d050d5cd8e68",
   "metadata": {},
   "source": [
    "# Modèle de référence"
   ]
  },
  {
   "cell_type": "markdown",
   "id": "7917aa57-d4da-47af-b349-a2110f79fbbc",
   "metadata": {},
   "source": [
    "### Préparons les training et validation sets **sans** data-augmentation"
   ]
  },
  {
   "cell_type": "code",
   "execution_count": 9,
   "id": "b5805191-78ed-45d5-a6f2-908a4a4955de",
   "metadata": {
    "execution": {
     "iopub.execute_input": "2022-08-26T09:29:53.781956Z",
     "iopub.status.busy": "2022-08-26T09:29:53.781583Z",
     "iopub.status.idle": "2022-08-26T09:29:53.798715Z",
     "shell.execute_reply": "2022-08-26T09:29:53.798198Z",
     "shell.execute_reply.started": "2022-08-26T09:29:53.781935Z"
    },
    "tags": []
   },
   "outputs": [],
   "source": [
    "batch_size = 8\n",
    "\n",
    "train_ds = CustomDataGenerator(\n",
    "    pathlib.Path('data','preprocessed','256x128', 'train'), \n",
    "    batch_size, \n",
    "    augmentation=None, # Pas d'augementations pour la baseline\n",
    "    # preprocessing=preprocess_input, \n",
    "    shuffle=True,\n",
    "    verbose=0,\n",
    "    # maxbatches=100,\n",
    ")\n",
    "\n",
    "valid_ds = CustomDataGenerator(\n",
    "    pathlib.Path('data','preprocessed','256x128', 'val'), \n",
    "    batch_size, \n",
    "    augmentation=None, \n",
    "    # preprocessing=preprocess_input, \n",
    "    shuffle=True,\n",
    "    verbose=0,\n",
    "    #maxbatches=100,\n",
    ")"
   ]
  },
  {
   "cell_type": "markdown",
   "id": "ef66c84a-7f5b-45f8-8e46-05a0cd56c26e",
   "metadata": {},
   "source": [
    "### Définissons notre modèle de référence\n",
    "> https://keras.io/examples/vision/oxford_pets_image_segmentation/"
   ]
  },
  {
   "cell_type": "code",
   "execution_count": 10,
   "id": "ba2b3a54-401f-4c57-a338-be0fe2b5e838",
   "metadata": {
    "execution": {
     "iopub.execute_input": "2022-08-26T09:29:55.332319Z",
     "iopub.status.busy": "2022-08-26T09:29:55.331725Z",
     "iopub.status.idle": "2022-08-26T09:29:55.341002Z",
     "shell.execute_reply": "2022-08-26T09:29:55.340381Z",
     "shell.execute_reply.started": "2022-08-26T09:29:55.332296Z"
    },
    "tags": []
   },
   "outputs": [],
   "source": [
    "def get_model(img_size, num_classes):\n",
    "    inputs = keras.Input(shape=img_size + (3,))\n",
    "\n",
    "    ### [First half of the network: downsampling inputs] ###\n",
    "\n",
    "    # Entry block\n",
    "    x = layers.Conv2D(32, 3, strides=2, padding=\"same\")(inputs)\n",
    "    x = layers.BatchNormalization()(x)\n",
    "    x = layers.Activation(\"relu\")(x)\n",
    "\n",
    "    previous_block_activation = x  # Set aside residual\n",
    "\n",
    "    # Blocks 1, 2, 3 are identical apart from the feature depth.\n",
    "    for filters in [64, 128, 256]:\n",
    "        x = layers.Activation(\"relu\")(x)\n",
    "        x = layers.SeparableConv2D(filters, 3, padding=\"same\")(x)\n",
    "        x = layers.BatchNormalization()(x)\n",
    "\n",
    "        x = layers.Activation(\"relu\")(x)\n",
    "        x = layers.SeparableConv2D(filters, 3, padding=\"same\")(x)\n",
    "        x = layers.BatchNormalization()(x)\n",
    "\n",
    "        x = layers.MaxPooling2D(3, strides=2, padding=\"same\")(x)\n",
    "\n",
    "        # Project residual\n",
    "        residual = layers.Conv2D(filters, 1, strides=2, padding=\"same\")(\n",
    "            previous_block_activation\n",
    "        )\n",
    "        x = layers.add([x, residual])  # Add back residual\n",
    "        previous_block_activation = x  # Set aside next residual\n",
    "\n",
    "    ### [Second half of the network: upsampling inputs] ###\n",
    "\n",
    "    for filters in [256, 128, 64, 32]:\n",
    "        x = layers.Activation(\"relu\")(x)\n",
    "        x = layers.Conv2DTranspose(filters, 3, padding=\"same\")(x)\n",
    "        x = layers.BatchNormalization()(x)\n",
    "\n",
    "        x = layers.Activation(\"relu\")(x)\n",
    "        x = layers.Conv2DTranspose(filters, 3, padding=\"same\")(x)\n",
    "        x = layers.BatchNormalization()(x)\n",
    "\n",
    "        x = layers.UpSampling2D(2)(x)\n",
    "\n",
    "        # Project residual\n",
    "        residual = layers.UpSampling2D(2)(previous_block_activation)\n",
    "        residual = layers.Conv2D(filters, 1, padding=\"same\")(residual)\n",
    "        x = layers.add([x, residual])  # Add back residual\n",
    "        previous_block_activation = x  # Set aside next residual\n",
    "\n",
    "    # Add a per-pixel classification layer\n",
    "    outputs = layers.Conv2D(num_classes, 3, activation=\"softmax\", padding=\"same\")(x)\n",
    "\n",
    "    # Define the model\n",
    "    model = keras.Model(inputs, outputs)\n",
    "    return model"
   ]
  },
  {
   "cell_type": "code",
   "execution_count": 12,
   "id": "695160e6-0be8-4720-97cc-a23cf87bd9bb",
   "metadata": {
    "execution": {
     "iopub.execute_input": "2022-08-26T09:29:59.622101Z",
     "iopub.status.busy": "2022-08-26T09:29:59.621715Z",
     "iopub.status.idle": "2022-08-26T09:30:00.000803Z",
     "shell.execute_reply": "2022-08-26T09:30:00.000161Z",
     "shell.execute_reply.started": "2022-08-26T09:29:59.622079Z"
    },
    "tags": []
   },
   "outputs": [],
   "source": [
    "f_opti = keras.optimizers.Adam(learning_rate=0.0005)\n",
    "f_loss = keras.losses.CategoricalCrossentropy(from_logits=False)\n",
    "# f_loss = sm.losses.bce_jaccard_loss\n",
    "f_metrics = [sm.metrics.iou_score]\n",
    "\n",
    "#model = sm.Unet(BACKBONE, encoder_weights='imagenet', classes=8, activation='softmax')\n",
    "#model = unet_base(input_size=(128,256,3))\n",
    "model = get_model((128,256), 8)\n",
    "model.compile(\n",
    "    optimizer=f_opti,\n",
    "    loss=f_loss, # sm.losses.bce_jaccard_loss,\n",
    "    metrics=[sm.metrics.iou_score],\n",
    ")"
   ]
  },
  {
   "cell_type": "raw",
   "id": "b79e9f2d-25d0-4894-bf98-2e4c31c0be08",
   "metadata": {},
   "source": [
    "model.summary()"
   ]
  },
  {
   "cell_type": "code",
   "execution_count": 14,
   "id": "452dc5e0-2f9a-4451-813c-d95b39123396",
   "metadata": {
    "execution": {
     "iopub.execute_input": "2022-08-26T09:30:25.641055Z",
     "iopub.status.busy": "2022-08-26T09:30:25.640669Z",
     "iopub.status.idle": "2022-08-26T09:39:08.880131Z",
     "shell.execute_reply": "2022-08-26T09:39:08.879523Z",
     "shell.execute_reply.started": "2022-08-26T09:30:25.641032Z"
    },
    "tags": []
   },
   "outputs": [
    {
     "name": "stdout",
     "output_type": "stream",
     "text": [
      "Epoch 1/100\n",
      "372/372 [==============================] - ETA: 0s - loss: 0.6412 - iou_score: 0.4052\n",
      "Epoch 1: val_iou_score improved from -inf to 0.10150, saving model to models/U-Net - baseline.keras\n",
      "372/372 [==============================] - 30s 81ms/step - loss: 0.6412 - iou_score: 0.4052 - val_loss: 2.0057 - val_iou_score: 0.1015 - lr: 5.0000e-04\n",
      "Epoch 2/100\n",
      "372/372 [==============================] - ETA: 0s - loss: 0.5191 - iou_score: 0.4562\n",
      "Epoch 2: val_iou_score improved from 0.10150 to 0.42674, saving model to models/U-Net - baseline.keras\n",
      "372/372 [==============================] - 28s 74ms/step - loss: 0.5191 - iou_score: 0.4562 - val_loss: 0.6115 - val_iou_score: 0.4267 - lr: 5.0000e-04\n",
      "Epoch 3/100\n",
      "372/372 [==============================] - ETA: 0s - loss: 0.4773 - iou_score: 0.4774\n",
      "Epoch 3: val_iou_score improved from 0.42674 to 0.43521, saving model to models/U-Net - baseline.keras\n",
      "372/372 [==============================] - 27s 74ms/step - loss: 0.4773 - iou_score: 0.4774 - val_loss: 0.5715 - val_iou_score: 0.4352 - lr: 5.0000e-04\n",
      "Epoch 4/100\n",
      "372/372 [==============================] - ETA: 0s - loss: 0.4446 - iou_score: 0.4948\n",
      "Epoch 4: val_iou_score improved from 0.43521 to 0.45988, saving model to models/U-Net - baseline.keras\n",
      "372/372 [==============================] - 27s 74ms/step - loss: 0.4446 - iou_score: 0.4948 - val_loss: 0.5209 - val_iou_score: 0.4599 - lr: 5.0000e-04\n",
      "Epoch 5/100\n",
      "372/372 [==============================] - ETA: 0s - loss: 0.4232 - iou_score: 0.5092\n",
      "Epoch 5: val_iou_score did not improve from 0.45988\n",
      "372/372 [==============================] - 27s 73ms/step - loss: 0.4232 - iou_score: 0.5092 - val_loss: 0.5390 - val_iou_score: 0.4536 - lr: 5.0000e-04\n",
      "Epoch 6/100\n",
      "372/372 [==============================] - ETA: 0s - loss: 0.4019 - iou_score: 0.5225\n",
      "Epoch 6: val_iou_score improved from 0.45988 to 0.49651, saving model to models/U-Net - baseline.keras\n",
      "372/372 [==============================] - 27s 73ms/step - loss: 0.4019 - iou_score: 0.5225 - val_loss: 0.4878 - val_iou_score: 0.4965 - lr: 5.0000e-04\n",
      "Epoch 7/100\n",
      "372/372 [==============================] - ETA: 0s - loss: 0.3869 - iou_score: 0.5323\n",
      "Epoch 7: val_iou_score improved from 0.49651 to 0.50273, saving model to models/U-Net - baseline.keras\n",
      "372/372 [==============================] - 27s 73ms/step - loss: 0.3869 - iou_score: 0.5323 - val_loss: 0.4784 - val_iou_score: 0.5027 - lr: 5.0000e-04\n",
      "Epoch 8/100\n",
      "372/372 [==============================] - ETA: 0s - loss: 0.3733 - iou_score: 0.5413\n",
      "Epoch 8: val_iou_score did not improve from 0.50273\n",
      "372/372 [==============================] - 27s 73ms/step - loss: 0.3733 - iou_score: 0.5413 - val_loss: 0.4761 - val_iou_score: 0.4914 - lr: 5.0000e-04\n",
      "Epoch 9/100\n",
      "372/372 [==============================] - ETA: 0s - loss: 0.3579 - iou_score: 0.5505\n",
      "Epoch 9: val_iou_score did not improve from 0.50273\n",
      "372/372 [==============================] - 27s 73ms/step - loss: 0.3579 - iou_score: 0.5505 - val_loss: 0.4960 - val_iou_score: 0.5026 - lr: 5.0000e-04\n",
      "Epoch 10/100\n",
      "372/372 [==============================] - ETA: 0s - loss: 0.3438 - iou_score: 0.5603\n",
      "Epoch 10: val_iou_score improved from 0.50273 to 0.50964, saving model to models/U-Net - baseline.keras\n",
      "372/372 [==============================] - 27s 74ms/step - loss: 0.3438 - iou_score: 0.5603 - val_loss: 0.4578 - val_iou_score: 0.5096 - lr: 5.0000e-04\n",
      "Epoch 11/100\n",
      "372/372 [==============================] - ETA: 0s - loss: 0.3324 - iou_score: 0.5675\n",
      "Epoch 11: val_iou_score improved from 0.50964 to 0.52560, saving model to models/U-Net - baseline.keras\n",
      "372/372 [==============================] - 28s 74ms/step - loss: 0.3324 - iou_score: 0.5675 - val_loss: 0.4919 - val_iou_score: 0.5256 - lr: 5.0000e-04\n",
      "Epoch 12/100\n",
      "372/372 [==============================] - ETA: 0s - loss: 0.3152 - iou_score: 0.5782\n",
      "Epoch 12: val_iou_score did not improve from 0.52560\n",
      "372/372 [==============================] - 27s 73ms/step - loss: 0.3152 - iou_score: 0.5782 - val_loss: 0.5299 - val_iou_score: 0.5218 - lr: 5.0000e-04\n",
      "Epoch 13/100\n",
      "372/372 [==============================] - ETA: 0s - loss: 0.3077 - iou_score: 0.5848\n",
      "Epoch 13: val_iou_score did not improve from 0.52560\n",
      "372/372 [==============================] - 27s 73ms/step - loss: 0.3077 - iou_score: 0.5848 - val_loss: 0.4698 - val_iou_score: 0.5244 - lr: 5.0000e-04\n",
      "Epoch 14/100\n",
      "372/372 [==============================] - ETA: 0s - loss: 0.2939 - iou_score: 0.5932\n",
      "Epoch 14: val_iou_score did not improve from 0.52560\n",
      "\n",
      "Epoch 14: ReduceLROnPlateau reducing learning rate to 0.00010000000474974513.\n",
      "372/372 [==============================] - 27s 73ms/step - loss: 0.2939 - iou_score: 0.5932 - val_loss: 0.5095 - val_iou_score: 0.5224 - lr: 5.0000e-04\n",
      "Epoch 15/100\n",
      "372/372 [==============================] - ETA: 0s - loss: 0.2459 - iou_score: 0.6262\n",
      "Epoch 15: val_iou_score improved from 0.52560 to 0.54955, saving model to models/U-Net - baseline.keras\n",
      "372/372 [==============================] - 27s 74ms/step - loss: 0.2459 - iou_score: 0.6262 - val_loss: 0.4785 - val_iou_score: 0.5495 - lr: 1.0000e-04\n",
      "Epoch 16/100\n",
      "372/372 [==============================] - ETA: 0s - loss: 0.2318 - iou_score: 0.6385\n",
      "Epoch 16: val_iou_score improved from 0.54955 to 0.55031, saving model to models/U-Net - baseline.keras\n",
      "372/372 [==============================] - 27s 74ms/step - loss: 0.2318 - iou_score: 0.6385 - val_loss: 0.4917 - val_iou_score: 0.5503 - lr: 1.0000e-04\n",
      "Epoch 17/100\n",
      "372/372 [==============================] - ETA: 0s - loss: 0.2237 - iou_score: 0.6458\n",
      "Epoch 17: val_iou_score improved from 0.55031 to 0.55047, saving model to models/U-Net - baseline.keras\n",
      "372/372 [==============================] - 27s 74ms/step - loss: 0.2237 - iou_score: 0.6458 - val_loss: 0.5079 - val_iou_score: 0.5505 - lr: 1.0000e-04\n",
      "Epoch 18/100\n",
      "372/372 [==============================] - ETA: 0s - loss: 0.2176 - iou_score: 0.6517\n",
      "Epoch 18: val_iou_score improved from 0.55047 to 0.55549, saving model to models/U-Net - baseline.keras\n",
      "\n",
      "Epoch 18: ReduceLROnPlateau reducing learning rate to 2.0000000949949027e-05.\n",
      "372/372 [==============================] - 28s 74ms/step - loss: 0.2176 - iou_score: 0.6517 - val_loss: 0.5186 - val_iou_score: 0.5555 - lr: 1.0000e-04\n",
      "Epoch 19/100\n",
      "372/372 [==============================] - ETA: 0s - loss: 0.2077 - iou_score: 0.6589\n",
      "Epoch 19: val_iou_score improved from 0.55549 to 0.55902, saving model to models/U-Net - baseline.keras\n",
      "Restoring model weights from the end of the best epoch: 10.\n",
      "372/372 [==============================] - 28s 74ms/step - loss: 0.2077 - iou_score: 0.6589 - val_loss: 0.5186 - val_iou_score: 0.5590 - lr: 2.0000e-05\n",
      "Epoch 19: early stopping\n"
     ]
    }
   ],
   "source": [
    "history = model.fit(\n",
    "    train_ds,\n",
    "    validation_data=valid_ds,\n",
    "    epochs=100,\n",
    "    batch_size=batch_size,\n",
    "    callbacks=init_callbacks(\"U-Net - baseline\"),\n",
    "    # validation_split=0.2\n",
    ")"
   ]
  },
  {
   "cell_type": "code",
   "execution_count": 15,
   "id": "eed40aa3-9a0f-4a26-839b-bc139167af33",
   "metadata": {
    "execution": {
     "iopub.execute_input": "2022-08-26T09:39:08.881552Z",
     "iopub.status.busy": "2022-08-26T09:39:08.881254Z",
     "iopub.status.idle": "2022-08-26T09:39:09.134014Z",
     "shell.execute_reply": "2022-08-26T09:39:09.133440Z",
     "shell.execute_reply.started": "2022-08-26T09:39:08.881532Z"
    },
    "tags": []
   },
   "outputs": [
    {
     "data": {
      "image/png": "[encoded data removed]",
      "text/plain": [
       "<Figure size 576x576 with 2 Axes>"
      ]
     },
     "metadata": {
      "needs_background": "light"
     },
     "output_type": "display_data"
    }
   ],
   "source": [
    "summarize_diagnostics(history)"
   ]
  },
  {
   "cell_type": "markdown",
   "id": "9fb8f845-55f3-4b23-bb95-1fdf44934202",
   "metadata": {},
   "source": [
    "# Modèle de référence (avec augmentation des données)"
   ]
  },
  {
   "cell_type": "markdown",
   "id": "05775408-c123-4246-9d8e-bc5163efef3b",
   "metadata": {},
   "source": [
    "### Préparons les training et validation sets **avec** data-augmentation"
   ]
  },
  {
   "cell_type": "code",
   "execution_count": 16,
   "id": "5b463540-644f-41ee-83e1-d0f806937112",
   "metadata": {
    "execution": {
     "iopub.execute_input": "2022-08-26T09:39:09.135036Z",
     "iopub.status.busy": "2022-08-26T09:39:09.134770Z",
     "iopub.status.idle": "2022-08-26T09:39:09.138760Z",
     "shell.execute_reply": "2022-08-26T09:39:09.138261Z",
     "shell.execute_reply.started": "2022-08-26T09:39:09.135018Z"
    },
    "tags": []
   },
   "outputs": [],
   "source": [
    "transform1 = A.Compose([\n",
    "    # A.RandomCrop(width=100, height=100),\n",
    "    A.HorizontalFlip(p=0.5),\n",
    "    # A.VerticalFlip(p=0.5),\n",
    "    # A.RandomRotate90(p=0.5),\n",
    "    A.Rotate(15, p=0.5),\n",
    "    # A.Transpose(p=0.5),\n",
    "    A.RandomBrightnessContrast(p=0.2),\n",
    "    # A.Blur(p=0.01, blur_limit = 3),\n",
    "    # A.OneOf([\n",
    "    #        A.ElasticTransform(p=0.5, alpha=120, sigma=120 * 0.05, alpha_affine=120 * 0.03),\n",
    "    #        A.GridDistortion(p=0.5),\n",
    "    #        A.OpticalDistortion(p=1, distort_limit=2, shift_limit=0.5)                  \n",
    "    # ], p=0.5)\n",
    "])"
   ]
  },
  {
   "cell_type": "code",
   "execution_count": 17,
   "id": "a76cb55a-1432-4cb2-ae5d-7bd5393def8c",
   "metadata": {
    "execution": {
     "iopub.execute_input": "2022-08-26T09:39:09.140324Z",
     "iopub.status.busy": "2022-08-26T09:39:09.139990Z",
     "iopub.status.idle": "2022-08-26T09:39:09.156736Z",
     "shell.execute_reply": "2022-08-26T09:39:09.156240Z",
     "shell.execute_reply.started": "2022-08-26T09:39:09.140306Z"
    },
    "tags": []
   },
   "outputs": [],
   "source": [
    "batch_size = 8\n",
    "\n",
    "train_ds = CustomDataGenerator(\n",
    "    pathlib.Path('data','preprocessed','256x128', 'train'), \n",
    "    batch_size, \n",
    "    augmentation=transform1,\n",
    "    # preprocessing=preprocess_input, \n",
    "    shuffle=True,\n",
    "    verbose=0,\n",
    "    # maxbatches=100,\n",
    ")\n",
    "\n",
    "valid_ds = CustomDataGenerator(\n",
    "    pathlib.Path('data','preprocessed','256x128', 'val'), \n",
    "    batch_size, \n",
    "    augmentation=None, \n",
    "    # preprocessing=preprocess_input, \n",
    "    shuffle=True,\n",
    "    verbose=0,\n",
    "    #maxbatches=100,\n",
    ")"
   ]
  },
  {
   "cell_type": "code",
   "execution_count": 18,
   "id": "596c43cf-bdbc-4a8d-b222-3ad46e0e0af7",
   "metadata": {
    "execution": {
     "iopub.execute_input": "2022-08-26T09:39:09.157524Z",
     "iopub.status.busy": "2022-08-26T09:39:09.157331Z",
     "iopub.status.idle": "2022-08-26T09:39:09.526299Z",
     "shell.execute_reply": "2022-08-26T09:39:09.525707Z",
     "shell.execute_reply.started": "2022-08-26T09:39:09.157507Z"
    },
    "tags": []
   },
   "outputs": [],
   "source": [
    "f_opti = keras.optimizers.Adam(learning_rate=0.0005)\n",
    "f_loss = keras.losses.CategoricalCrossentropy(from_logits=False)\n",
    "# f_loss = sm.losses.bce_jaccard_loss\n",
    "f_metrics = [sm.metrics.iou_score]\n",
    "\n",
    "model = get_model((128,256), 8)\n",
    "model.compile(\n",
    "    optimizer=f_opti,\n",
    "    loss=f_loss, # sm.losses.bce_jaccard_loss,\n",
    "    metrics=[sm.metrics.iou_score],\n",
    ")"
   ]
  },
  {
   "cell_type": "code",
   "execution_count": 19,
   "id": "dadcba9f-4914-4c97-998a-e297f5a8d32a",
   "metadata": {
    "execution": {
     "iopub.execute_input": "2022-08-26T09:39:09.527661Z",
     "iopub.status.busy": "2022-08-26T09:39:09.527079Z",
     "iopub.status.idle": "2022-08-26T09:51:44.901170Z",
     "shell.execute_reply": "2022-08-26T09:51:44.900583Z",
     "shell.execute_reply.started": "2022-08-26T09:39:09.527640Z"
    },
    "tags": []
   },
   "outputs": [
    {
     "name": "stdout",
     "output_type": "stream",
     "text": [
      "Epoch 1/100\n",
      "372/372 [==============================] - ETA: 0s - loss: 0.8936 - iou_score: 0.3420\n",
      "Epoch 1: val_iou_score improved from -inf to 0.04173, saving model to models/U-Net - baseline + data-augmentation.keras\n",
      "372/372 [==============================] - 30s 76ms/step - loss: 0.8936 - iou_score: 0.3420 - val_loss: 2.9097 - val_iou_score: 0.0417 - lr: 5.0000e-04\n",
      "Epoch 2/100\n",
      "372/372 [==============================] - ETA: 0s - loss: 0.6277 - iou_score: 0.3968\n",
      "Epoch 2: val_iou_score improved from 0.04173 to 0.41093, saving model to models/U-Net - baseline + data-augmentation.keras\n",
      "372/372 [==============================] - 28s 75ms/step - loss: 0.6277 - iou_score: 0.3968 - val_loss: 0.6040 - val_iou_score: 0.4109 - lr: 5.0000e-04\n",
      "Epoch 3/100\n",
      "372/372 [==============================] - ETA: 0s - loss: 0.5802 - iou_score: 0.4173\n",
      "Epoch 3: val_iou_score improved from 0.41093 to 0.43352, saving model to models/U-Net - baseline + data-augmentation.keras\n",
      "372/372 [==============================] - 29s 77ms/step - loss: 0.5802 - iou_score: 0.4173 - val_loss: 0.5763 - val_iou_score: 0.4335 - lr: 5.0000e-04\n",
      "Epoch 4/100\n",
      "372/372 [==============================] - ETA: 0s - loss: 0.5413 - iou_score: 0.4376\n",
      "Epoch 4: val_iou_score improved from 0.43352 to 0.43382, saving model to models/U-Net - baseline + data-augmentation.keras\n",
      "372/372 [==============================] - 28s 76ms/step - loss: 0.5413 - iou_score: 0.4376 - val_loss: 0.5521 - val_iou_score: 0.4338 - lr: 5.0000e-04\n",
      "Epoch 5/100\n",
      "372/372 [==============================] - ETA: 0s - loss: 0.5201 - iou_score: 0.4484\n",
      "Epoch 5: val_iou_score improved from 0.43382 to 0.44886, saving model to models/U-Net - baseline + data-augmentation.keras\n",
      "372/372 [==============================] - 28s 76ms/step - loss: 0.5201 - iou_score: 0.4484 - val_loss: 0.5561 - val_iou_score: 0.4489 - lr: 5.0000e-04\n",
      "Epoch 6/100\n",
      "372/372 [==============================] - ETA: 0s - loss: 0.5039 - iou_score: 0.4584\n",
      "Epoch 6: val_iou_score improved from 0.44886 to 0.45884, saving model to models/U-Net - baseline + data-augmentation.keras\n",
      "372/372 [==============================] - 29s 77ms/step - loss: 0.5039 - iou_score: 0.4584 - val_loss: 0.5200 - val_iou_score: 0.4588 - lr: 5.0000e-04\n",
      "Epoch 7/100\n",
      "372/372 [==============================] - ETA: 0s - loss: 0.4872 - iou_score: 0.4664\n",
      "Epoch 7: val_iou_score did not improve from 0.45884\n",
      "372/372 [==============================] - 29s 77ms/step - loss: 0.4872 - iou_score: 0.4664 - val_loss: 0.5179 - val_iou_score: 0.4544 - lr: 5.0000e-04\n",
      "Epoch 8/100\n",
      "372/372 [==============================] - ETA: 0s - loss: 0.4771 - iou_score: 0.4729\n",
      "Epoch 8: val_iou_score improved from 0.45884 to 0.47576, saving model to models/U-Net - baseline + data-augmentation.keras\n",
      "372/372 [==============================] - 29s 77ms/step - loss: 0.4771 - iou_score: 0.4729 - val_loss: 0.4933 - val_iou_score: 0.4758 - lr: 5.0000e-04\n",
      "Epoch 9/100\n",
      "372/372 [==============================] - ETA: 0s - loss: 0.4624 - iou_score: 0.4812\n",
      "Epoch 9: val_iou_score did not improve from 0.47576\n",
      "372/372 [==============================] - 29s 77ms/step - loss: 0.4624 - iou_score: 0.4812 - val_loss: 0.5174 - val_iou_score: 0.4561 - lr: 5.0000e-04\n",
      "Epoch 10/100\n",
      "372/372 [==============================] - ETA: 0s - loss: 0.4508 - iou_score: 0.4895\n",
      "Epoch 10: val_iou_score improved from 0.47576 to 0.50041, saving model to models/U-Net - baseline + data-augmentation.keras\n",
      "372/372 [==============================] - 29s 77ms/step - loss: 0.4508 - iou_score: 0.4895 - val_loss: 0.4675 - val_iou_score: 0.5004 - lr: 5.0000e-04\n",
      "Epoch 11/100\n",
      "372/372 [==============================] - ETA: 0s - loss: 0.4414 - iou_score: 0.4944\n",
      "Epoch 11: val_iou_score did not improve from 0.50041\n",
      "372/372 [==============================] - 28s 77ms/step - loss: 0.4414 - iou_score: 0.4944 - val_loss: 0.5088 - val_iou_score: 0.4753 - lr: 5.0000e-04\n",
      "Epoch 12/100\n",
      "372/372 [==============================] - ETA: 0s - loss: 0.4319 - iou_score: 0.4983\n",
      "Epoch 12: val_iou_score improved from 0.50041 to 0.50866, saving model to models/U-Net - baseline + data-augmentation.keras\n",
      "372/372 [==============================] - 29s 77ms/step - loss: 0.4319 - iou_score: 0.4983 - val_loss: 0.4497 - val_iou_score: 0.5087 - lr: 5.0000e-04\n",
      "Epoch 13/100\n",
      "372/372 [==============================] - ETA: 0s - loss: 0.4262 - iou_score: 0.5041\n",
      "Epoch 13: val_iou_score did not improve from 0.50866\n",
      "372/372 [==============================] - 29s 77ms/step - loss: 0.4262 - iou_score: 0.5041 - val_loss: 0.4546 - val_iou_score: 0.5042 - lr: 5.0000e-04\n",
      "Epoch 14/100\n",
      "372/372 [==============================] - ETA: 0s - loss: 0.4214 - iou_score: 0.5078\n",
      "Epoch 14: val_iou_score did not improve from 0.50866\n",
      "372/372 [==============================] - 28s 76ms/step - loss: 0.4214 - iou_score: 0.5078 - val_loss: 0.4562 - val_iou_score: 0.4891 - lr: 5.0000e-04\n",
      "Epoch 15/100\n",
      "372/372 [==============================] - ETA: 0s - loss: 0.4143 - iou_score: 0.5118\n",
      "Epoch 15: val_iou_score improved from 0.50866 to 0.50939, saving model to models/U-Net - baseline + data-augmentation.keras\n",
      "372/372 [==============================] - 29s 77ms/step - loss: 0.4143 - iou_score: 0.5118 - val_loss: 0.4661 - val_iou_score: 0.5094 - lr: 5.0000e-04\n",
      "Epoch 16/100\n",
      "372/372 [==============================] - ETA: 0s - loss: 0.4099 - iou_score: 0.5150\n",
      "Epoch 16: val_iou_score improved from 0.50939 to 0.51220, saving model to models/U-Net - baseline + data-augmentation.keras\n",
      "372/372 [==============================] - 28s 75ms/step - loss: 0.4099 - iou_score: 0.5150 - val_loss: 0.4420 - val_iou_score: 0.5122 - lr: 5.0000e-04\n",
      "Epoch 17/100\n",
      "372/372 [==============================] - ETA: 0s - loss: 0.4011 - iou_score: 0.5207\n",
      "Epoch 17: val_iou_score did not improve from 0.51220\n",
      "372/372 [==============================] - 27s 73ms/step - loss: 0.4011 - iou_score: 0.5207 - val_loss: 0.4510 - val_iou_score: 0.5005 - lr: 5.0000e-04\n",
      "Epoch 18/100\n",
      "372/372 [==============================] - ETA: 0s - loss: 0.3941 - iou_score: 0.5238\n",
      "Epoch 18: val_iou_score improved from 0.51220 to 0.51696, saving model to models/U-Net - baseline + data-augmentation.keras\n",
      "372/372 [==============================] - 27s 73ms/step - loss: 0.3941 - iou_score: 0.5238 - val_loss: 0.4132 - val_iou_score: 0.5170 - lr: 5.0000e-04\n",
      "Epoch 19/100\n",
      "372/372 [==============================] - ETA: 0s - loss: 0.3904 - iou_score: 0.5272\n",
      "Epoch 19: val_iou_score improved from 0.51696 to 0.52740, saving model to models/U-Net - baseline + data-augmentation.keras\n",
      "372/372 [==============================] - 27s 73ms/step - loss: 0.3904 - iou_score: 0.5272 - val_loss: 0.4422 - val_iou_score: 0.5274 - lr: 5.0000e-04\n",
      "Epoch 20/100\n",
      "372/372 [==============================] - ETA: 0s - loss: 0.3861 - iou_score: 0.5300\n",
      "Epoch 20: val_iou_score did not improve from 0.52740\n",
      "372/372 [==============================] - 27s 73ms/step - loss: 0.3861 - iou_score: 0.5300 - val_loss: 0.4560 - val_iou_score: 0.5188 - lr: 5.0000e-04\n",
      "Epoch 21/100\n",
      "372/372 [==============================] - ETA: 0s - loss: 0.3802 - iou_score: 0.5340\n",
      "Epoch 21: val_iou_score did not improve from 0.52740\n",
      "372/372 [==============================] - 27s 72ms/step - loss: 0.3802 - iou_score: 0.5340 - val_loss: 0.4605 - val_iou_score: 0.5242 - lr: 5.0000e-04\n",
      "Epoch 22/100\n",
      "372/372 [==============================] - ETA: 0s - loss: 0.3795 - iou_score: 0.5344\n",
      "Epoch 22: val_iou_score did not improve from 0.52740\n",
      "\n",
      "Epoch 22: ReduceLROnPlateau reducing learning rate to 0.00010000000474974513.\n",
      "372/372 [==============================] - 27s 72ms/step - loss: 0.3795 - iou_score: 0.5344 - val_loss: 0.4303 - val_iou_score: 0.5167 - lr: 5.0000e-04\n",
      "Epoch 23/100\n",
      "372/372 [==============================] - ETA: 0s - loss: 0.3467 - iou_score: 0.5540\n",
      "Epoch 23: val_iou_score improved from 0.52740 to 0.54961, saving model to models/U-Net - baseline + data-augmentation.keras\n",
      "372/372 [==============================] - 27s 73ms/step - loss: 0.3467 - iou_score: 0.5540 - val_loss: 0.4071 - val_iou_score: 0.5496 - lr: 1.0000e-04\n",
      "Epoch 24/100\n",
      "372/372 [==============================] - ETA: 0s - loss: 0.3363 - iou_score: 0.5618\n",
      "Epoch 24: val_iou_score improved from 0.54961 to 0.55112, saving model to models/U-Net - baseline + data-augmentation.keras\n",
      "372/372 [==============================] - 27s 73ms/step - loss: 0.3363 - iou_score: 0.5618 - val_loss: 0.4071 - val_iou_score: 0.5511 - lr: 1.0000e-04\n",
      "Epoch 25/100\n",
      "372/372 [==============================] - ETA: 0s - loss: 0.3353 - iou_score: 0.5631\n",
      "Epoch 25: val_iou_score did not improve from 0.55112\n",
      "372/372 [==============================] - 27s 72ms/step - loss: 0.3353 - iou_score: 0.5631 - val_loss: 0.4092 - val_iou_score: 0.5499 - lr: 1.0000e-04\n",
      "Epoch 26/100\n",
      "372/372 [==============================] - ETA: 0s - loss: 0.3283 - iou_score: 0.5671\n",
      "Epoch 26: val_iou_score improved from 0.55112 to 0.55586, saving model to models/U-Net - baseline + data-augmentation.keras\n",
      "372/372 [==============================] - 27s 72ms/step - loss: 0.3283 - iou_score: 0.5671 - val_loss: 0.4112 - val_iou_score: 0.5559 - lr: 1.0000e-04\n",
      "Epoch 27/100\n",
      "372/372 [==============================] - ETA: 0s - loss: 0.3285 - iou_score: 0.5675\n",
      "Epoch 27: val_iou_score did not improve from 0.55586\n",
      "Restoring model weights from the end of the best epoch: 18.\n",
      "\n",
      "Epoch 27: ReduceLROnPlateau reducing learning rate to 2.0000000949949027e-05.\n",
      "372/372 [==============================] - 27s 72ms/step - loss: 0.3285 - iou_score: 0.5675 - val_loss: 0.4145 - val_iou_score: 0.5522 - lr: 1.0000e-04\n",
      "Epoch 27: early stopping\n"
     ]
    }
   ],
   "source": [
    "history = model.fit(\n",
    "    train_ds,\n",
    "    validation_data=valid_ds,\n",
    "    epochs=100,\n",
    "    batch_size=batch_size,\n",
    "    callbacks=init_callbacks(\"U-Net - baseline + data-augmentation\"),\n",
    "    # validation_split=0.2\n",
    ")"
   ]
  },
  {
   "cell_type": "code",
   "execution_count": 20,
   "id": "8006557c-43f9-4077-b997-fd282a50e349",
   "metadata": {
    "execution": {
     "iopub.execute_input": "2022-08-26T09:51:44.902296Z",
     "iopub.status.busy": "2022-08-26T09:51:44.902022Z",
     "iopub.status.idle": "2022-08-26T09:51:45.121635Z",
     "shell.execute_reply": "2022-08-26T09:51:45.121105Z",
     "shell.execute_reply.started": "2022-08-26T09:51:44.902278Z"
    },
    "tags": []
   },
   "outputs": [
    {
     "data": {
      "image/png": "[encoded data removed]",
      "text/plain": [
       "<Figure size 576x576 with 2 Axes>"
      ]
     },
     "metadata": {
      "needs_background": "light"
     },
     "output_type": "display_data"
    }
   ],
   "source": [
    "summarize_diagnostics(history)"
   ]
  },
  {
   "cell_type": "code",
   "execution_count": 21,
   "id": "6f6614e6-e424-459c-b305-0c14e6f06931",
   "metadata": {
    "execution": {
     "iopub.execute_input": "2022-08-26T09:51:45.122681Z",
     "iopub.status.busy": "2022-08-26T09:51:45.122424Z",
     "iopub.status.idle": "2022-08-26T09:51:45.642342Z",
     "shell.execute_reply": "2022-08-26T09:51:45.641669Z",
     "shell.execute_reply.started": "2022-08-26T09:51:45.122664Z"
    }
   },
   "outputs": [
    {
     "ename": "JupyterScriptCompleted",
     "evalue": "Finished",
     "output_type": "error",
     "traceback": [
      "\u001b[0;31m---------------------------------------------------------------------------\u001b[0m",
      "\u001b[0;31mJupyterScriptCompleted\u001b[0m                    Traceback (most recent call last)",
      "Input \u001b[0;32mIn [21]\u001b[0m, in \u001b[0;36m<cell line: 2>\u001b[0;34m()\u001b[0m\n\u001b[1;32m      1\u001b[0m \u001b[38;5;28;01mimport\u001b[39;00m \u001b[38;5;21;01mFreeMobileSMS\u001b[39;00m \u001b[38;5;28;01mas\u001b[39;00m \u001b[38;5;21;01msms\u001b[39;00m\n\u001b[0;32m----> 2\u001b[0m \u001b[43msms\u001b[49m\u001b[38;5;241;43m.\u001b[39;49m\u001b[43msend\u001b[49m\u001b[43m(\u001b[49m\u001b[38;5;124;43m\"\u001b[39;49m\u001b[38;5;124;43mFinished\u001b[39;49m\u001b[38;5;124;43m\"\u001b[39;49m\u001b[43m)\u001b[49m\n",
      "File \u001b[0;32m~/workspace/OC_AI_08/FreeMobileSMS.py:25\u001b[0m, in \u001b[0;36msend\u001b[0;34m(msg, user, apikey, stop)\u001b[0m\n\u001b[1;32m     22\u001b[0m requests\u001b[38;5;241m.\u001b[39mget(sms_url)\n\u001b[1;32m     24\u001b[0m \u001b[38;5;28;01mif\u001b[39;00m stop:\n\u001b[0;32m---> 25\u001b[0m     \u001b[38;5;28;01mraise\u001b[39;00m JupyterScriptCompleted(msg)\n",
      "\u001b[0;31mJupyterScriptCompleted\u001b[0m: Finished"
     ]
    }
   ],
   "source": [
    "import FreeMobileSMS as sms\n",
    "sms.send(\"Finished\")"
   ]
  },
  {
   "cell_type": "markdown",
   "id": "2196aead-be52-4696-8d4b-f228003f6c0e",
   "metadata": {
    "jp-MarkdownHeadingCollapsed": true,
    "tags": []
   },
   "source": [
    "# Modèle autre"
   ]
  },
  {
   "cell_type": "markdown",
   "id": "d28892dd-083d-4a7f-8d1c-b418b1d6d37c",
   "metadata": {},
   "source": [
    "### Définissons un pré-processing"
   ]
  },
  {
   "cell_type": "code",
   "execution_count": null,
   "id": "8f245dbd-74c3-4b7d-a248-4e475965525e",
   "metadata": {
    "execution": {
     "iopub.status.busy": "2022-08-26T09:28:48.926901Z",
     "iopub.status.idle": "2022-08-26T09:28:48.927144Z",
     "shell.execute_reply": "2022-08-26T09:28:48.927035Z",
     "shell.execute_reply.started": "2022-08-26T09:28:48.927024Z"
    },
    "tags": []
   },
   "outputs": [],
   "source": [
    "BACKBONE = 'vgg16'\n",
    "preprocess_input = sm.get_preprocessing(BACKBONE)"
   ]
  },
  {
   "cell_type": "markdown",
   "id": "1c0fdf32-e2fe-4d14-88b4-bb95e1e2b8b0",
   "metadata": {},
   "source": [
    "### Préparons les training et validation sets avec notre CustomDataGenerator"
   ]
  },
  {
   "cell_type": "code",
   "execution_count": null,
   "id": "d34ea6d3-8b6e-4854-bb62-195e188bc5ad",
   "metadata": {
    "execution": {
     "iopub.status.busy": "2022-08-26T09:28:48.928050Z",
     "iopub.status.idle": "2022-08-26T09:28:48.928342Z",
     "shell.execute_reply": "2022-08-26T09:28:48.928227Z",
     "shell.execute_reply.started": "2022-08-26T09:28:48.928215Z"
    },
    "tags": []
   },
   "outputs": [],
   "source": [
    "transform1 = A.Compose([\n",
    "    # A.RandomCrop(width=100, height=100),\n",
    "    A.HorizontalFlip(p=0.5),\n",
    "    # A.VerticalFlip(p=0.5),\n",
    "    # A.RandomRotate90(p=0.5),\n",
    "    A.Rotate(15, p=0.5),\n",
    "    # A.Transpose(p=0.5),\n",
    "    A.RandomBrightnessContrast(p=0.2),\n",
    "    A.Blur(p=0.01, blur_limit = 3),\n",
    "    # A.OneOf([\n",
    "    #        A.ElasticTransform(p=0.5, alpha=120, sigma=120 * 0.05, alpha_affine=120 * 0.03),\n",
    "    #        A.GridDistortion(p=0.5),\n",
    "    #        A.OpticalDistortion(p=1, distort_limit=2, shift_limit=0.5)                  \n",
    "    # ], p=0.5)\n",
    "])"
   ]
  },
  {
   "cell_type": "code",
   "execution_count": null,
   "id": "fe6034fd-b9c3-4f69-bf6c-b22008dd819e",
   "metadata": {
    "execution": {
     "iopub.status.busy": "2022-08-26T09:28:48.929195Z",
     "iopub.status.idle": "2022-08-26T09:28:48.929437Z",
     "shell.execute_reply": "2022-08-26T09:28:48.929328Z",
     "shell.execute_reply.started": "2022-08-26T09:28:48.929317Z"
    },
    "tags": []
   },
   "outputs": [],
   "source": [
    "batch_size = 8\n",
    "\n",
    "train_ds = CustomDataGenerator(\n",
    "    pathlib.Path('data','preprocessed','256x128', 'train'), \n",
    "    batch_size, \n",
    "    augmentation=None, # Pas d'augementations pour la baseline\n",
    "    preprocessing=preprocess_input, \n",
    "    shuffle=True,\n",
    "    verbose=0,\n",
    "    maxbatches=100,\n",
    ")\n",
    "\n",
    "valid_ds = CustomDataGenerator(\n",
    "    pathlib.Path('data','preprocessed','256x128', 'val'), \n",
    "    batch_size, \n",
    "    augmentation=None, \n",
    "    preprocessing=preprocess_input, \n",
    "    shuffle=True,\n",
    "    verbose=0,\n",
    "    maxbatches=100,\n",
    ")"
   ]
  },
  {
   "cell_type": "markdown",
   "id": "92f2afbc-1746-466a-b655-ea37a43c9470",
   "metadata": {},
   "source": [
    "### Définissons et entrainons un modèle"
   ]
  },
  {
   "cell_type": "code",
   "execution_count": null,
   "id": "ba8f505e-f511-491c-9092-5c4a8c2d37d9",
   "metadata": {
    "execution": {
     "iopub.status.busy": "2022-08-26T09:28:48.930406Z",
     "iopub.status.idle": "2022-08-26T09:28:48.930744Z",
     "shell.execute_reply": "2022-08-26T09:28:48.930629Z",
     "shell.execute_reply.started": "2022-08-26T09:28:48.930617Z"
    },
    "tags": []
   },
   "outputs": [],
   "source": [
    "f_opti = keras.optimizers.Adam(learning_rate=0.0005)\n",
    "f_loss = keras.losses.CategoricalCrossentropy(from_logits=False)\n",
    "# f_loss = sm.losses.bce_jaccard_loss\n",
    "f_metrics = [sm.metrics.iou_score]\n",
    "\n",
    "model = sm.Unet(BACKBONE, encoder_weights='imagenet', classes=8, activation='softmax')\n",
    "model.compile(\n",
    "    optimizer=f_opti,\n",
    "    loss=f_loss, # sm.losses.bce_jaccard_loss,\n",
    "    metrics=[sm.metrics.iou_score],\n",
    ")"
   ]
  },
  {
   "cell_type": "raw",
   "id": "a1ede8be-9fd2-4a2d-8e17-fd7499b4e7cc",
   "metadata": {},
   "source": [
    "model.summary()"
   ]
  },
  {
   "cell_type": "code",
   "execution_count": null,
   "id": "c4288905-b117-42e7-954a-7b8867c1d7c7",
   "metadata": {
    "execution": {
     "iopub.status.busy": "2022-08-26T09:28:48.931397Z",
     "iopub.status.idle": "2022-08-26T09:28:48.931661Z",
     "shell.execute_reply": "2022-08-26T09:28:48.931552Z",
     "shell.execute_reply.started": "2022-08-26T09:28:48.931541Z"
    },
    "tags": []
   },
   "outputs": [],
   "source": [
    "history = model.fit(\n",
    "    train_ds,\n",
    "    validation_data=valid_ds,\n",
    "    epochs=5,\n",
    "    batch_size=batch_size,\n",
    "    callbacks=init_callbacks(\"Unet - baseline\"),\n",
    "    # validation_split=0.2\n",
    ")"
   ]
  },
  {
   "cell_type": "code",
   "execution_count": null,
   "id": "fcac3622-a3ab-4186-8d17-b2a422c84935",
   "metadata": {
    "execution": {
     "iopub.status.busy": "2022-08-26T09:28:48.932544Z",
     "iopub.status.idle": "2022-08-26T09:28:48.932845Z",
     "shell.execute_reply": "2022-08-26T09:28:48.932732Z",
     "shell.execute_reply.started": "2022-08-26T09:28:48.932720Z"
    },
    "tags": []
   },
   "outputs": [],
   "source": [
    "summarize_diagnostics(history)"
   ]
  },
  {
   "cell_type": "code",
   "execution_count": null,
   "id": "99efd1a4-0873-4858-8004-64b17fd7ca44",
   "metadata": {},
   "outputs": [],
   "source": []
  }
 ],
 "metadata": {
  "kernelspec": {
   "display_name": "saturn (Python 3)",
   "language": "python",
   "name": "python3"
  },
  "language_info": {
   "codemirror_mode": {
    "name": "ipython",
    "version": 3
   },
   "file_extension": ".py",
   "mimetype": "text/x-python",
   "name": "python",
   "nbconvert_exporter": "python",
   "pygments_lexer": "ipython3",
   "version": "3.9.13"
  }
 },
 "nbformat": 4,
 "nbformat_minor": 5
}
