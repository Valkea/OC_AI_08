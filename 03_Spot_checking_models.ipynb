{
 "cells": [
  {
   "cell_type": "code",
   "execution_count": 1,
   "id": "00810078-7a6c-4a37-a422-3242952579fc",
   "metadata": {
    "execution": {
     "iopub.execute_input": "2022-08-26T08:46:15.775232Z",
     "iopub.status.busy": "2022-08-26T08:46:15.774779Z",
     "iopub.status.idle": "2022-08-26T08:46:18.508101Z",
     "shell.execute_reply": "2022-08-26T08:46:18.507481Z",
     "shell.execute_reply.started": "2022-08-26T08:46:15.775171Z"
    },
    "tags": []
   },
   "outputs": [
    {
     "name": "stderr",
     "output_type": "stream",
     "text": [
      "2022-08-26 08:46:16.951614: I tensorflow/core/util/util.cc:169] oneDNN custom operations are on. You may see slightly different numerical results due to floating-point round-off errors from different computation orders. To turn them off, set the environment variable `TF_ENABLE_ONEDNN_OPTS=0`.\n"
     ]
    },
    {
     "name": "stdout",
     "output_type": "stream",
     "text": [
      "Segmentation Models: using `keras` framework.\n"
     ]
    }
   ],
   "source": [
    "import glob\n",
    "import math\n",
    "import pathlib\n",
    "import datetime\n",
    "\n",
    "import numpy as np\n",
    "from PIL import Image\n",
    "import matplotlib.pyplot as plt\n",
    "\n",
    "import albumentations as A\n",
    "import segmentation_models as sm\n",
    "import tensorflow as tf\n",
    "from tensorflow import keras\n",
    "from keras import layers\n",
    "\n",
    "# set random seed for reproductibility\n",
    "random_seed = 0\n",
    "np.random.seed(random_seed)\n",
    "\n",
    "try:\n",
    "    keras.utils.set_random_seed(random_seed)\n",
    "except Exception:\n",
    "    tf.random.set_seed(random_seed)"
   ]
  },
  {
   "cell_type": "code",
   "execution_count": 3,
   "id": "f8fc28df-8213-4798-a11f-d09ba59080eb",
   "metadata": {
    "execution": {
     "iopub.execute_input": "2022-08-26T08:46:26.056855Z",
     "iopub.status.busy": "2022-08-26T08:46:26.056479Z",
     "iopub.status.idle": "2022-08-26T08:46:26.060422Z",
     "shell.execute_reply": "2022-08-26T08:46:26.059882Z",
     "shell.execute_reply.started": "2022-08-26T08:46:26.056832Z"
    },
    "tags": []
   },
   "outputs": [
    {
     "name": "stdout",
     "output_type": "stream",
     "text": [
      "Num GPUs Available:  1\n"
     ]
    }
   ],
   "source": [
    "print(\"Num GPUs Available: \", len(tf.config.list_physical_devices('GPU')))"
   ]
  },
  {
   "cell_type": "code",
   "execution_count": 4,
   "id": "eb5b3401-cd93-4417-8e81-c1d55b6cfd11",
   "metadata": {
    "execution": {
     "iopub.execute_input": "2022-08-26T08:46:28.788547Z",
     "iopub.status.busy": "2022-08-26T08:46:28.788170Z",
     "iopub.status.idle": "2022-08-26T08:46:28.796672Z",
     "shell.execute_reply": "2022-08-26T08:46:28.796163Z",
     "shell.execute_reply.started": "2022-08-26T08:46:28.788525Z"
    },
    "tags": []
   },
   "outputs": [
    {
     "data": {
      "text/plain": [
       "[PhysicalDevice(name='/physical_device:GPU:0', device_type='GPU')]"
      ]
     },
     "execution_count": 4,
     "metadata": {},
     "output_type": "execute_result"
    }
   ],
   "source": [
    "tf.config.list_physical_devices('GPU')"
   ]
  },
  {
   "cell_type": "code",
   "execution_count": 5,
   "id": "d7a4c63c-dd2d-45c0-ae79-c1afa0147ae4",
   "metadata": {
    "execution": {
     "iopub.execute_input": "2022-08-26T08:46:28.884094Z",
     "iopub.status.busy": "2022-08-26T08:46:28.883776Z",
     "iopub.status.idle": "2022-08-26T08:46:29.696222Z",
     "shell.execute_reply": "2022-08-26T08:46:29.695462Z",
     "shell.execute_reply.started": "2022-08-26T08:46:28.884074Z"
    },
    "tags": []
   },
   "outputs": [
    {
     "name": "stdout",
     "output_type": "stream",
     "text": [
      "GPU 0: Tesla T4 (UUID: GPU-bbd6bfc6-bff1-827c-28a7-86da63e1b953)\n"
     ]
    }
   ],
   "source": [
    "!nvidia-smi -L"
   ]
  },
  {
   "cell_type": "markdown",
   "id": "2293b5a3-e484-4254-ba4f-e4e5b3b34eef",
   "metadata": {},
   "source": [
    "## Fonctions communes"
   ]
  },
  {
   "cell_type": "code",
   "execution_count": 6,
   "id": "79842543-53ca-4410-a40b-4835be2a39ce",
   "metadata": {
    "execution": {
     "iopub.execute_input": "2022-08-26T08:46:31.651377Z",
     "iopub.status.busy": "2022-08-26T08:46:31.650981Z",
     "iopub.status.idle": "2022-08-26T08:46:31.658326Z",
     "shell.execute_reply": "2022-08-26T08:46:31.657798Z",
     "shell.execute_reply.started": "2022-08-26T08:46:31.651348Z"
    },
    "tags": []
   },
   "outputs": [],
   "source": [
    "def summarize_diagnostics(history):\n",
    "    \n",
    "    figure = plt.figure(figsize=(8,8))\n",
    "            \n",
    "    # plot loss\n",
    "    plt.subplot(211)\n",
    "    plt.title(f_loss.name.title())\n",
    "    plt.plot(history.history['loss'], color='blue', label='train')\n",
    "    plt.plot(history.history['val_loss'], color='orange', label='val')\n",
    "    plt.legend()\n",
    "    \n",
    "    # plot metric\n",
    "    plt.subplot(212)\n",
    "    plt.title('IoU scores')\n",
    "    plt.plot(history.history['iou_score'], color='blue', label='train')\n",
    "    plt.plot(history.history['val_iou_score'], color='orange', label='val')\n",
    "    plt.legend()\n",
    "    \n",
    "    # save plot to file\n",
    "    #filename = sys.argv[0].split('/')[-1]\n",
    "    #plt.savefig(filename + '_plot.png')\n",
    "    #plt.close()\n",
    "    \n",
    "    plt.tight_layout(pad=1.0)"
   ]
  },
  {
   "cell_type": "markdown",
   "id": "1786e431-7862-4620-8b4f-ab5501c7f6b8",
   "metadata": {},
   "source": [
    "### DataGenerator"
   ]
  },
  {
   "cell_type": "code",
   "execution_count": 7,
   "id": "aa16eb13-6a38-4c89-8355-e1fe3724ac53",
   "metadata": {
    "execution": {
     "iopub.execute_input": "2022-08-26T08:46:33.054448Z",
     "iopub.status.busy": "2022-08-26T08:46:33.054063Z",
     "iopub.status.idle": "2022-08-26T08:46:33.063171Z",
     "shell.execute_reply": "2022-08-26T08:46:33.062625Z",
     "shell.execute_reply.started": "2022-08-26T08:46:33.054422Z"
    },
    "tags": []
   },
   "outputs": [],
   "source": [
    "class CustomDataGenerator(keras.utils.Sequence):\n",
    "    # We use Sequence as parent class, because Sequence are a safer way to do multiprocessing.\n",
    "    # This structure guarantees that the network will only train once on each sample per epoch which is not the case with generators.\n",
    "    \n",
    "    def __init__(self, datapath, batch_size, augmentation=None, preprocessing=None, shuffle=False, verbose=0, maxbatches=None, *args, **kwargs):\n",
    "        self.batch_size = batch_size\n",
    "        self.ids = [x[:-4] for x in glob.glob(f\"{datapath}/*[!_labels].png\")]\n",
    "        self.shuffle = shuffle\n",
    "        self.verbose = verbose\n",
    "        self.augmentation = augmentation\n",
    "        self.preprocessing = preprocessing\n",
    "        self.maxbatches = maxbatches\n",
    "        #print(len(self.ids), self.ids)\n",
    "        \n",
    "    def __len__(self):\n",
    "        # returns the number of batches\n",
    "        if self.maxbatches:\n",
    "            return min(self.maxbatches, math.ceil(len(self.ids) / self.batch_size))\n",
    "        else:\n",
    "            return math.ceil(len(self.ids) / self.batch_size)\n",
    "    \n",
    "    def __getitem__(self, index):\n",
    "        # returns one batch\n",
    "        \n",
    "        since = index * self.batch_size\n",
    "        until = (index+1) * self.batch_size\n",
    "        batch_ids = self.ids[since:until]\n",
    "        \n",
    "        images = []\n",
    "        labels = []\n",
    "        for source_id in batch_ids:\n",
    "            if self.verbose > 0:\n",
    "                print(source_id)\n",
    "            \n",
    "            x = np.array(Image.open(f\"{source_id}.png\"))            \n",
    "            y = np.array(Image.open(f\"{source_id}_labels.png\"))\n",
    "            \n",
    "            if self.augmentation:\n",
    "                augmented = self.augmentation(image=x, mask=y)\n",
    "                x, y = augmented['image'], augmented['mask']\n",
    "                \n",
    "            if self.preprocessing:\n",
    "                x = self.preprocessing(x)\n",
    "              \n",
    "            images.append(x/255.0) # normalize between 0 and 1 at the same time\n",
    "            #labels.append(y)\n",
    "            labels.append(keras.utils.to_categorical(y, 8))\n",
    "         \n",
    "        return np.array(images, dtype=float), np.array(labels, dtype=float)\n",
    "        \n",
    "    def on_epoch_end(self):\n",
    "        # logics run once at the very beginning and then at the end of each epoch\n",
    "        if self.shuffle:\n",
    "            return np.random.shuffle(self.ids) # /!\\ Is this really a good idea ????"
   ]
  },
  {
   "cell_type": "markdown",
   "id": "39107a78-5431-41e0-9789-129daecec0ef",
   "metadata": {},
   "source": [
    "### Callbacks"
   ]
  },
  {
   "cell_type": "code",
   "execution_count": 15,
   "id": "dd0ac9a8-01e6-496b-bd4e-a1b1dc2ed244",
   "metadata": {
    "execution": {
     "iopub.execute_input": "2022-08-26T08:47:45.990326Z",
     "iopub.status.busy": "2022-08-26T08:47:45.989935Z",
     "iopub.status.idle": "2022-08-26T08:47:45.995575Z",
     "shell.execute_reply": "2022-08-26T08:47:45.995003Z",
     "shell.execute_reply.started": "2022-08-26T08:47:45.990302Z"
    },
    "tags": []
   },
   "outputs": [],
   "source": [
    "from keras.callbacks import ModelCheckpoint, EarlyStopping, ReduceLROnPlateau, TensorBoard\n",
    "\n",
    "def init_callbacks(model_name):\n",
    "\n",
    "    # Define savepoints\n",
    "    filepath = pathlib.Path(\"models\", f\"{model_name}.keras\")\n",
    "    checkpoint = ModelCheckpoint(\n",
    "        monitor=\"val_iou_score\",\n",
    "        mode=\"max\",\n",
    "        filepath=filepath,\n",
    "        save_best_only=True,\n",
    "        verbose=1,\n",
    "    )\n",
    "    \n",
    "    # Define TensorBoard logging\n",
    "    log_dir = f\"logs/fit/{model_name}_{datetime.datetime.now().strftime('%Y%m%d-%H%M')}\"\n",
    "    tensorboard = TensorBoard(\n",
    "        log_dir=log_dir,\n",
    "        histogram_freq=0,\n",
    "    )\n",
    "    \n",
    "    # Define Learning-Rate modification conditions\n",
    "    reduce_lr = ReduceLROnPlateau(\n",
    "        monitor='val_loss',\n",
    "        factor=0.2,\n",
    "        patience=5,\n",
    "        # min_lr=0.001,\n",
    "        verbose=1,\n",
    "    )\n",
    "\n",
    "    # Define EarlyStopping conditions\n",
    "    es = EarlyStopping(\n",
    "        monitor='val_loss',\n",
    "        mode='min',\n",
    "        patience=10,\n",
    "        min_delta=0.01, \n",
    "        restore_best_weights=True, \n",
    "        verbose=1,\n",
    "    )\n",
    "    \n",
    "    return [checkpoint, es, reduce_lr, tensorboard]"
   ]
  },
  {
   "cell_type": "markdown",
   "id": "06e59b13-de2c-41f2-99c0-d050d5cd8e68",
   "metadata": {},
   "source": [
    "# Modèle de référence"
   ]
  },
  {
   "cell_type": "markdown",
   "id": "7917aa57-d4da-47af-b349-a2110f79fbbc",
   "metadata": {},
   "source": [
    "### Préparons les training et validation sets **sans** data-augmentation"
   ]
  },
  {
   "cell_type": "code",
   "execution_count": 9,
   "id": "b5805191-78ed-45d5-a6f2-908a4a4955de",
   "metadata": {
    "execution": {
     "iopub.execute_input": "2022-08-26T08:46:35.906183Z",
     "iopub.status.busy": "2022-08-26T08:46:35.905817Z",
     "iopub.status.idle": "2022-08-26T08:46:35.923083Z",
     "shell.execute_reply": "2022-08-26T08:46:35.922524Z",
     "shell.execute_reply.started": "2022-08-26T08:46:35.906158Z"
    },
    "tags": []
   },
   "outputs": [],
   "source": [
    "batch_size = 8\n",
    "\n",
    "train_ds = CustomDataGenerator(\n",
    "    pathlib.Path('data','preprocessed','256x128', 'train'), \n",
    "    batch_size, \n",
    "    augmentation=None, # Pas d'augementations pour la baseline\n",
    "    # preprocessing=preprocess_input, \n",
    "    shuffle=True,\n",
    "    verbose=0,\n",
    "    # maxbatches=100,\n",
    ")\n",
    "\n",
    "valid_ds = CustomDataGenerator(\n",
    "    pathlib.Path('data','preprocessed','256x128', 'val'), \n",
    "    batch_size, \n",
    "    augmentation=None, \n",
    "    # preprocessing=preprocess_input, \n",
    "    shuffle=True,\n",
    "    verbose=0,\n",
    "    #maxbatches=100,\n",
    ")"
   ]
  },
  {
   "cell_type": "markdown",
   "id": "ef66c84a-7f5b-45f8-8e46-05a0cd56c26e",
   "metadata": {},
   "source": [
    "### Définissons notre modèle de référence\n",
    "> https://keras.io/examples/vision/oxford_pets_image_segmentation/"
   ]
  },
  {
   "cell_type": "code",
   "execution_count": 10,
   "id": "ba2b3a54-401f-4c57-a338-be0fe2b5e838",
   "metadata": {
    "execution": {
     "iopub.execute_input": "2022-08-26T08:46:37.100629Z",
     "iopub.status.busy": "2022-08-26T08:46:37.100246Z",
     "iopub.status.idle": "2022-08-26T08:46:37.109152Z",
     "shell.execute_reply": "2022-08-26T08:46:37.108633Z",
     "shell.execute_reply.started": "2022-08-26T08:46:37.100604Z"
    },
    "tags": []
   },
   "outputs": [],
   "source": [
    "def get_model(img_size, num_classes):\n",
    "    inputs = keras.Input(shape=img_size + (3,))\n",
    "\n",
    "    ### [First half of the network: downsampling inputs] ###\n",
    "\n",
    "    # Entry block\n",
    "    x = layers.Conv2D(32, 3, strides=2, padding=\"same\")(inputs)\n",
    "    x = layers.BatchNormalization()(x)\n",
    "    x = layers.Activation(\"relu\")(x)\n",
    "\n",
    "    previous_block_activation = x  # Set aside residual\n",
    "\n",
    "    # Blocks 1, 2, 3 are identical apart from the feature depth.\n",
    "    for filters in [64, 128, 256]:\n",
    "        x = layers.Activation(\"relu\")(x)\n",
    "        x = layers.SeparableConv2D(filters, 3, padding=\"same\")(x)\n",
    "        x = layers.BatchNormalization()(x)\n",
    "\n",
    "        x = layers.Activation(\"relu\")(x)\n",
    "        x = layers.SeparableConv2D(filters, 3, padding=\"same\")(x)\n",
    "        x = layers.BatchNormalization()(x)\n",
    "\n",
    "        x = layers.MaxPooling2D(3, strides=2, padding=\"same\")(x)\n",
    "\n",
    "        # Project residual\n",
    "        residual = layers.Conv2D(filters, 1, strides=2, padding=\"same\")(\n",
    "            previous_block_activation\n",
    "        )\n",
    "        x = layers.add([x, residual])  # Add back residual\n",
    "        previous_block_activation = x  # Set aside next residual\n",
    "\n",
    "    ### [Second half of the network: upsampling inputs] ###\n",
    "\n",
    "    for filters in [256, 128, 64, 32]:\n",
    "        x = layers.Activation(\"relu\")(x)\n",
    "        x = layers.Conv2DTranspose(filters, 3, padding=\"same\")(x)\n",
    "        x = layers.BatchNormalization()(x)\n",
    "\n",
    "        x = layers.Activation(\"relu\")(x)\n",
    "        x = layers.Conv2DTranspose(filters, 3, padding=\"same\")(x)\n",
    "        x = layers.BatchNormalization()(x)\n",
    "\n",
    "        x = layers.UpSampling2D(2)(x)\n",
    "\n",
    "        # Project residual\n",
    "        residual = layers.UpSampling2D(2)(previous_block_activation)\n",
    "        residual = layers.Conv2D(filters, 1, padding=\"same\")(residual)\n",
    "        x = layers.add([x, residual])  # Add back residual\n",
    "        previous_block_activation = x  # Set aside next residual\n",
    "\n",
    "    # Add a per-pixel classification layer\n",
    "    outputs = layers.Conv2D(num_classes, 3, activation=\"softmax\", padding=\"same\")(x)\n",
    "\n",
    "    # Define the model\n",
    "    model = keras.Model(inputs, outputs)\n",
    "    return model"
   ]
  },
  {
   "cell_type": "code",
   "execution_count": 16,
   "id": "695160e6-0be8-4720-97cc-a23cf87bd9bb",
   "metadata": {
    "execution": {
     "iopub.execute_input": "2022-08-26T08:47:50.239277Z",
     "iopub.status.busy": "2022-08-26T08:47:50.238908Z",
     "iopub.status.idle": "2022-08-26T08:47:50.608518Z",
     "shell.execute_reply": "2022-08-26T08:47:50.607893Z",
     "shell.execute_reply.started": "2022-08-26T08:47:50.239254Z"
    },
    "tags": []
   },
   "outputs": [],
   "source": [
    "f_opti = keras.optimizers.Adam(learning_rate=0.0005)\n",
    "f_loss = keras.losses.CategoricalCrossentropy(from_logits=False)\n",
    "# f_loss = sm.losses.bce_jaccard_loss\n",
    "f_metrics = [sm.metrics.iou_score]\n",
    "\n",
    "#model = sm.Unet(BACKBONE, encoder_weights='imagenet', classes=8, activation='softmax')\n",
    "#model = unet_base(input_size=(128,256,3))\n",
    "model = get_model((128,256), 8)\n",
    "model.compile(\n",
    "    optimizer=f_opti,\n",
    "    loss=f_loss, # sm.losses.bce_jaccard_loss,\n",
    "    metrics=[sm.metrics.iou_score],\n",
    ")"
   ]
  },
  {
   "cell_type": "raw",
   "id": "b79e9f2d-25d0-4894-bf98-2e4c31c0be08",
   "metadata": {},
   "source": [
    "model.summary()"
   ]
  },
  {
   "cell_type": "code",
   "execution_count": 17,
   "id": "452dc5e0-2f9a-4451-813c-d95b39123396",
   "metadata": {
    "execution": {
     "iopub.execute_input": "2022-08-26T08:47:52.602003Z",
     "iopub.status.busy": "2022-08-26T08:47:52.601632Z",
     "iopub.status.idle": "2022-08-26T08:55:28.655151Z",
     "shell.execute_reply": "2022-08-26T08:55:28.654537Z",
     "shell.execute_reply.started": "2022-08-26T08:47:52.601981Z"
    },
    "tags": []
   },
   "outputs": [
    {
     "name": "stdout",
     "output_type": "stream",
     "text": [
      "Epoch 1/100\n",
      "372/372 [==============================] - ETA: 0s - loss: 0.7705 - iou_score: 0.3946\n",
      "Epoch 1: val_iou_score improved from -inf to 0.06950, saving model to models/UNet - baseline.keras\n",
      "372/372 [==============================] - 31s 78ms/step - loss: 0.7705 - iou_score: 0.3946 - val_loss: 2.5940 - val_iou_score: 0.0695 - lr: 5.0000e-04\n",
      "Epoch 2/100\n",
      "372/372 [==============================] - ETA: 0s - loss: 0.5310 - iou_score: 0.4504\n",
      "Epoch 2: val_iou_score improved from 0.06950 to 0.42029, saving model to models/UNet - baseline.keras\n",
      "372/372 [==============================] - 28s 75ms/step - loss: 0.5310 - iou_score: 0.4504 - val_loss: 0.5988 - val_iou_score: 0.4203 - lr: 5.0000e-04\n",
      "Epoch 3/100\n",
      "372/372 [==============================] - ETA: 0s - loss: 0.4855 - iou_score: 0.4734\n",
      "Epoch 3: val_iou_score improved from 0.42029 to 0.44752, saving model to models/UNet - baseline.keras\n",
      "372/372 [==============================] - 28s 75ms/step - loss: 0.4855 - iou_score: 0.4734 - val_loss: 0.5571 - val_iou_score: 0.4475 - lr: 5.0000e-04\n",
      "Epoch 4/100\n",
      "372/372 [==============================] - ETA: 0s - loss: 0.4525 - iou_score: 0.4910\n",
      "Epoch 4: val_iou_score improved from 0.44752 to 0.47298, saving model to models/UNet - baseline.keras\n",
      "372/372 [==============================] - 28s 76ms/step - loss: 0.4525 - iou_score: 0.4910 - val_loss: 0.5198 - val_iou_score: 0.4730 - lr: 5.0000e-04\n",
      "Epoch 5/100\n",
      "372/372 [==============================] - ETA: 0s - loss: 0.4256 - iou_score: 0.5070\n",
      "Epoch 5: val_iou_score improved from 0.47298 to 0.48698, saving model to models/UNet - baseline.keras\n",
      "372/372 [==============================] - 28s 76ms/step - loss: 0.4256 - iou_score: 0.5070 - val_loss: 0.5042 - val_iou_score: 0.4870 - lr: 5.0000e-04\n",
      "Epoch 6/100\n",
      "372/372 [==============================] - ETA: 0s - loss: 0.4087 - iou_score: 0.5190\n",
      "Epoch 6: val_iou_score did not improve from 0.48698\n",
      "372/372 [==============================] - 28s 75ms/step - loss: 0.4087 - iou_score: 0.5190 - val_loss: 0.4985 - val_iou_score: 0.4867 - lr: 5.0000e-04\n",
      "Epoch 7/100\n",
      "372/372 [==============================] - ETA: 0s - loss: 0.3898 - iou_score: 0.5305\n",
      "Epoch 7: val_iou_score did not improve from 0.48698\n",
      "372/372 [==============================] - 28s 76ms/step - loss: 0.3898 - iou_score: 0.5305 - val_loss: 0.5886 - val_iou_score: 0.4677 - lr: 5.0000e-04\n",
      "Epoch 8/100\n",
      "372/372 [==============================] - ETA: 0s - loss: 0.3783 - iou_score: 0.5374\n",
      "Epoch 8: val_iou_score did not improve from 0.48698\n",
      "372/372 [==============================] - 28s 75ms/step - loss: 0.3783 - iou_score: 0.5374 - val_loss: 0.5512 - val_iou_score: 0.4813 - lr: 5.0000e-04\n",
      "Epoch 9/100\n",
      "372/372 [==============================] - ETA: 0s - loss: 0.3607 - iou_score: 0.5487\n",
      "Epoch 9: val_iou_score improved from 0.48698 to 0.49716, saving model to models/UNet - baseline.keras\n",
      "372/372 [==============================] - 28s 76ms/step - loss: 0.3607 - iou_score: 0.5487 - val_loss: 0.4760 - val_iou_score: 0.4972 - lr: 5.0000e-04\n",
      "Epoch 10/100\n",
      "372/372 [==============================] - ETA: 0s - loss: 0.3468 - iou_score: 0.5573\n",
      "Epoch 10: val_iou_score improved from 0.49716 to 0.50334, saving model to models/UNet - baseline.keras\n",
      "372/372 [==============================] - 28s 76ms/step - loss: 0.3468 - iou_score: 0.5573 - val_loss: 0.4807 - val_iou_score: 0.5033 - lr: 5.0000e-04\n",
      "Epoch 11/100\n",
      "372/372 [==============================] - ETA: 0s - loss: 0.3365 - iou_score: 0.5651\n",
      "Epoch 11: val_iou_score improved from 0.50334 to 0.53262, saving model to models/UNet - baseline.keras\n",
      "372/372 [==============================] - 29s 77ms/step - loss: 0.3365 - iou_score: 0.5651 - val_loss: 0.4961 - val_iou_score: 0.5326 - lr: 5.0000e-04\n",
      "Epoch 12/100\n",
      "372/372 [==============================] - ETA: 0s - loss: 0.3185 - iou_score: 0.5761\n",
      "Epoch 12: val_iou_score did not improve from 0.53262\n",
      "372/372 [==============================] - 28s 76ms/step - loss: 0.3185 - iou_score: 0.5761 - val_loss: 0.5320 - val_iou_score: 0.4988 - lr: 5.0000e-04\n",
      "Epoch 13/100\n",
      "372/372 [==============================] - ETA: 0s - loss: 0.2690 - iou_score: 0.6084\n",
      "Epoch 13: val_iou_score improved from 0.53262 to 0.53978, saving model to models/UNet - baseline.keras\n",
      "372/372 [==============================] - 29s 77ms/step - loss: 0.2690 - iou_score: 0.6084 - val_loss: 0.4684 - val_iou_score: 0.5398 - lr: 1.0000e-04\n",
      "Epoch 14/100\n",
      "372/372 [==============================] - ETA: 0s - loss: 0.2516 - iou_score: 0.6224\n",
      "Epoch 14: val_iou_score improved from 0.53978 to 0.54519, saving model to models/UNet - baseline.keras\n",
      "372/372 [==============================] - 29s 77ms/step - loss: 0.2516 - iou_score: 0.6224 - val_loss: 0.4799 - val_iou_score: 0.5452 - lr: 1.0000e-04\n",
      "Epoch 15/100\n",
      "372/372 [==============================] - ETA: 0s - loss: 0.2424 - iou_score: 0.6302\n",
      "Epoch 15: val_iou_score did not improve from 0.54519\n",
      "372/372 [==============================] - 28s 76ms/step - loss: 0.2424 - iou_score: 0.6302 - val_loss: 0.4930 - val_iou_score: 0.5443 - lr: 1.0000e-04\n",
      "Epoch 16/100\n",
      "372/372 [==============================] - ETA: 0s - loss: 0.2350 - iou_score: 0.6361\n",
      "Epoch 16: val_iou_score improved from 0.54519 to 0.54864, saving model to models/UNet - baseline.keras\n",
      "Restoring model weights from the end of the best epoch: 9.\n",
      "372/372 [==============================] - 29s 77ms/step - loss: 0.2350 - iou_score: 0.6361 - val_loss: 0.5235 - val_iou_score: 0.5486 - lr: 1.0000e-04\n",
      "Epoch 16: early stopping\n"
     ]
    }
   ],
   "source": [
    "history = model.fit(\n",
    "    train_ds,\n",
    "    validation_data=valid_ds,\n",
    "    epochs=100,\n",
    "    batch_size=batch_size,\n",
    "    callbacks=init_callbacks(\"U-Net - baseline\"),\n",
    "    # validation_split=0.2\n",
    ")"
   ]
  },
  {
   "cell_type": "code",
   "execution_count": 18,
   "id": "eed40aa3-9a0f-4a26-839b-bc139167af33",
   "metadata": {
    "execution": {
     "iopub.execute_input": "2022-08-26T08:55:28.656583Z",
     "iopub.status.busy": "2022-08-26T08:55:28.656318Z",
     "iopub.status.idle": "2022-08-26T08:55:28.896077Z",
     "shell.execute_reply": "2022-08-26T08:55:28.895518Z",
     "shell.execute_reply.started": "2022-08-26T08:55:28.656563Z"
    },
    "tags": []
   },
   "outputs": [
    {
     "data": {
      "image/png": "[encoded data removed]",
      "text/plain": [
       "<Figure size 576x576 with 2 Axes>"
      ]
     },
     "metadata": {
      "needs_background": "light"
     },
     "output_type": "display_data"
    }
   ],
   "source": [
    "summarize_diagnostics(history)"
   ]
  },
  {
   "cell_type": "markdown",
   "id": "9fb8f845-55f3-4b23-bb95-1fdf44934202",
   "metadata": {},
   "source": [
    "# Modèle de référence (avec augmentation des données)"
   ]
  },
  {
   "cell_type": "markdown",
   "id": "05775408-c123-4246-9d8e-bc5163efef3b",
   "metadata": {},
   "source": [
    "### Préparons les training et validation sets **avec** data-augmentation"
   ]
  },
  {
   "cell_type": "code",
   "execution_count": 19,
   "id": "5b463540-644f-41ee-83e1-d0f806937112",
   "metadata": {
    "execution": {
     "iopub.execute_input": "2022-08-26T08:55:28.897209Z",
     "iopub.status.busy": "2022-08-26T08:55:28.896843Z",
     "iopub.status.idle": "2022-08-26T08:55:28.900713Z",
     "shell.execute_reply": "2022-08-26T08:55:28.900208Z",
     "shell.execute_reply.started": "2022-08-26T08:55:28.897190Z"
    },
    "tags": []
   },
   "outputs": [],
   "source": [
    "transform1 = A.Compose([\n",
    "    # A.RandomCrop(width=100, height=100),\n",
    "    A.HorizontalFlip(p=0.5),\n",
    "    # A.VerticalFlip(p=0.5),\n",
    "    # A.RandomRotate90(p=0.5),\n",
    "    A.Rotate(15, p=0.5),\n",
    "    # A.Transpose(p=0.5),\n",
    "    A.RandomBrightnessContrast(p=0.2),\n",
    "    # A.Blur(p=0.01, blur_limit = 3),\n",
    "    # A.OneOf([\n",
    "    #        A.ElasticTransform(p=0.5, alpha=120, sigma=120 * 0.05, alpha_affine=120 * 0.03),\n",
    "    #        A.GridDistortion(p=0.5),\n",
    "    #        A.OpticalDistortion(p=1, distort_limit=2, shift_limit=0.5)                  \n",
    "    # ], p=0.5)\n",
    "])"
   ]
  },
  {
   "cell_type": "code",
   "execution_count": 20,
   "id": "a76cb55a-1432-4cb2-ae5d-7bd5393def8c",
   "metadata": {
    "execution": {
     "iopub.execute_input": "2022-08-26T08:55:28.902283Z",
     "iopub.status.busy": "2022-08-26T08:55:28.901831Z",
     "iopub.status.idle": "2022-08-26T08:55:28.918459Z",
     "shell.execute_reply": "2022-08-26T08:55:28.917977Z",
     "shell.execute_reply.started": "2022-08-26T08:55:28.902265Z"
    },
    "tags": []
   },
   "outputs": [],
   "source": [
    "batch_size = 8\n",
    "\n",
    "train_ds = CustomDataGenerator(\n",
    "    pathlib.Path('data','preprocessed','256x128', 'train'), \n",
    "    batch_size, \n",
    "    augmentation=transform1,\n",
    "    # preprocessing=preprocess_input, \n",
    "    shuffle=True,\n",
    "    verbose=0,\n",
    "    # maxbatches=100,\n",
    ")\n",
    "\n",
    "valid_ds = CustomDataGenerator(\n",
    "    pathlib.Path('data','preprocessed','256x128', 'val'), \n",
    "    batch_size, \n",
    "    augmentation=None, \n",
    "    # preprocessing=preprocess_input, \n",
    "    shuffle=True,\n",
    "    verbose=0,\n",
    "    #maxbatches=100,\n",
    ")"
   ]
  },
  {
   "cell_type": "code",
   "execution_count": 21,
   "id": "596c43cf-bdbc-4a8d-b222-3ad46e0e0af7",
   "metadata": {
    "execution": {
     "iopub.execute_input": "2022-08-26T08:55:28.919385Z",
     "iopub.status.busy": "2022-08-26T08:55:28.919147Z",
     "iopub.status.idle": "2022-08-26T08:55:29.286575Z",
     "shell.execute_reply": "2022-08-26T08:55:29.286040Z",
     "shell.execute_reply.started": "2022-08-26T08:55:28.919368Z"
    },
    "tags": []
   },
   "outputs": [],
   "source": [
    "f_opti = keras.optimizers.Adam(learning_rate=0.0005)\n",
    "f_loss = keras.losses.CategoricalCrossentropy(from_logits=False)\n",
    "# f_loss = sm.losses.bce_jaccard_loss\n",
    "f_metrics = [sm.metrics.iou_score]\n",
    "\n",
    "model = get_model((128,256), 8)\n",
    "model.compile(\n",
    "    optimizer=f_opti,\n",
    "    loss=f_loss, # sm.losses.bce_jaccard_loss,\n",
    "    metrics=[sm.metrics.iou_score],\n",
    ")"
   ]
  },
  {
   "cell_type": "code",
   "execution_count": 22,
   "id": "dadcba9f-4914-4c97-998a-e297f5a8d32a",
   "metadata": {
    "execution": {
     "iopub.execute_input": "2022-08-26T08:55:29.287762Z",
     "iopub.status.busy": "2022-08-26T08:55:29.287316Z",
     "iopub.status.idle": "2022-08-26T09:07:25.214548Z",
     "shell.execute_reply": "2022-08-26T09:07:25.213737Z",
     "shell.execute_reply.started": "2022-08-26T08:55:29.287742Z"
    },
    "tags": []
   },
   "outputs": [
    {
     "name": "stdout",
     "output_type": "stream",
     "text": [
      "Epoch 1/100\n",
      "372/372 [==============================] - ETA: 0s - loss: 0.8732 - iou_score: 0.3356\n",
      "Epoch 1: val_iou_score improved from -inf to 0.05047, saving model to models/U-Net - baseline + data-augmentation.keras\n",
      "372/372 [==============================] - 31s 78ms/step - loss: 0.8732 - iou_score: 0.3356 - val_loss: 3.1889 - val_iou_score: 0.0505 - lr: 5.0000e-04\n",
      "Epoch 2/100\n",
      "372/372 [==============================] - ETA: 0s - loss: 0.6351 - iou_score: 0.3901\n",
      "Epoch 2: val_iou_score improved from 0.05047 to 0.37748, saving model to models/U-Net - baseline + data-augmentation.keras\n",
      "372/372 [==============================] - 28s 76ms/step - loss: 0.6351 - iou_score: 0.3901 - val_loss: 0.6863 - val_iou_score: 0.3775 - lr: 5.0000e-04\n",
      "Epoch 3/100\n",
      "372/372 [==============================] - ETA: 0s - loss: 0.5799 - iou_score: 0.4169\n",
      "Epoch 3: val_iou_score improved from 0.37748 to 0.40189, saving model to models/U-Net - baseline + data-augmentation.keras\n",
      "372/372 [==============================] - 28s 76ms/step - loss: 0.5799 - iou_score: 0.4169 - val_loss: 0.6423 - val_iou_score: 0.4019 - lr: 5.0000e-04\n",
      "Epoch 4/100\n",
      "372/372 [==============================] - ETA: 0s - loss: 0.5387 - iou_score: 0.4373\n",
      "Epoch 4: val_iou_score improved from 0.40189 to 0.44940, saving model to models/U-Net - baseline + data-augmentation.keras\n",
      "372/372 [==============================] - 28s 76ms/step - loss: 0.5387 - iou_score: 0.4373 - val_loss: 0.5278 - val_iou_score: 0.4494 - lr: 5.0000e-04\n",
      "Epoch 5/100\n",
      "372/372 [==============================] - ETA: 0s - loss: 0.5190 - iou_score: 0.4483\n",
      "Epoch 5: val_iou_score improved from 0.44940 to 0.45722, saving model to models/U-Net - baseline + data-augmentation.keras\n",
      "372/372 [==============================] - 28s 76ms/step - loss: 0.5190 - iou_score: 0.4483 - val_loss: 0.5171 - val_iou_score: 0.4572 - lr: 5.0000e-04\n",
      "Epoch 6/100\n",
      "372/372 [==============================] - ETA: 0s - loss: 0.5015 - iou_score: 0.4584\n",
      "Epoch 6: val_iou_score did not improve from 0.45722\n",
      "372/372 [==============================] - 28s 76ms/step - loss: 0.5015 - iou_score: 0.4584 - val_loss: 0.5437 - val_iou_score: 0.4373 - lr: 5.0000e-04\n",
      "Epoch 7/100\n",
      "372/372 [==============================] - ETA: 0s - loss: 0.4859 - iou_score: 0.4672\n",
      "Epoch 7: val_iou_score improved from 0.45722 to 0.46970, saving model to models/U-Net - baseline + data-augmentation.keras\n",
      "372/372 [==============================] - 29s 77ms/step - loss: 0.4859 - iou_score: 0.4672 - val_loss: 0.5035 - val_iou_score: 0.4697 - lr: 5.0000e-04\n",
      "Epoch 8/100\n",
      "372/372 [==============================] - ETA: 0s - loss: 0.4717 - iou_score: 0.4754\n",
      "Epoch 8: val_iou_score did not improve from 0.46970\n",
      "372/372 [==============================] - 28s 76ms/step - loss: 0.4717 - iou_score: 0.4754 - val_loss: 0.4876 - val_iou_score: 0.4670 - lr: 5.0000e-04\n",
      "Epoch 9/100\n",
      "372/372 [==============================] - ETA: 0s - loss: 0.4651 - iou_score: 0.4805\n",
      "Epoch 9: val_iou_score improved from 0.46970 to 0.47571, saving model to models/U-Net - baseline + data-augmentation.keras\n",
      "372/372 [==============================] - 29s 77ms/step - loss: 0.4651 - iou_score: 0.4805 - val_loss: 0.4852 - val_iou_score: 0.4757 - lr: 5.0000e-04\n",
      "Epoch 10/100\n",
      "372/372 [==============================] - ETA: 0s - loss: 0.4537 - iou_score: 0.4858\n",
      "Epoch 10: val_iou_score improved from 0.47571 to 0.48379, saving model to models/U-Net - baseline + data-augmentation.keras\n",
      "372/372 [==============================] - 28s 76ms/step - loss: 0.4537 - iou_score: 0.4858 - val_loss: 0.4766 - val_iou_score: 0.4838 - lr: 5.0000e-04\n",
      "Epoch 11/100\n",
      "372/372 [==============================] - ETA: 0s - loss: 0.4451 - iou_score: 0.4930\n",
      "Epoch 11: val_iou_score improved from 0.48379 to 0.48588, saving model to models/U-Net - baseline + data-augmentation.keras\n",
      "372/372 [==============================] - 28s 76ms/step - loss: 0.4451 - iou_score: 0.4930 - val_loss: 0.4987 - val_iou_score: 0.4859 - lr: 5.0000e-04\n",
      "Epoch 12/100\n",
      "372/372 [==============================] - ETA: 0s - loss: 0.4374 - iou_score: 0.4974\n",
      "Epoch 12: val_iou_score improved from 0.48588 to 0.48925, saving model to models/U-Net - baseline + data-augmentation.keras\n",
      "372/372 [==============================] - 28s 76ms/step - loss: 0.4374 - iou_score: 0.4974 - val_loss: 0.4595 - val_iou_score: 0.4893 - lr: 5.0000e-04\n",
      "Epoch 13/100\n",
      "372/372 [==============================] - ETA: 0s - loss: 0.4308 - iou_score: 0.5008\n",
      "Epoch 13: val_iou_score did not improve from 0.48925\n",
      "372/372 [==============================] - 28s 76ms/step - loss: 0.4308 - iou_score: 0.5008 - val_loss: 0.4990 - val_iou_score: 0.4837 - lr: 5.0000e-04\n",
      "Epoch 14/100\n",
      "372/372 [==============================] - ETA: 0s - loss: 0.4221 - iou_score: 0.5066\n",
      "Epoch 14: val_iou_score improved from 0.48925 to 0.49463, saving model to models/U-Net - baseline + data-augmentation.keras\n",
      "372/372 [==============================] - 29s 77ms/step - loss: 0.4221 - iou_score: 0.5066 - val_loss: 0.4465 - val_iou_score: 0.4946 - lr: 5.0000e-04\n",
      "Epoch 15/100\n",
      "372/372 [==============================] - ETA: 0s - loss: 0.4147 - iou_score: 0.5115\n",
      "Epoch 15: val_iou_score improved from 0.49463 to 0.50018, saving model to models/U-Net - baseline + data-augmentation.keras\n",
      "372/372 [==============================] - 28s 76ms/step - loss: 0.4147 - iou_score: 0.5115 - val_loss: 0.4504 - val_iou_score: 0.5002 - lr: 5.0000e-04\n",
      "Epoch 16/100\n",
      "372/372 [==============================] - ETA: 0s - loss: 0.4111 - iou_score: 0.5118\n",
      "Epoch 16: val_iou_score did not improve from 0.50018\n",
      "372/372 [==============================] - 28s 76ms/step - loss: 0.4111 - iou_score: 0.5118 - val_loss: 0.4693 - val_iou_score: 0.4986 - lr: 5.0000e-04\n",
      "Epoch 17/100\n",
      "372/372 [==============================] - ETA: 0s - loss: 0.4082 - iou_score: 0.5158\n",
      "Epoch 17: val_iou_score improved from 0.50018 to 0.51226, saving model to models/U-Net - baseline + data-augmentation.keras\n",
      "372/372 [==============================] - 29s 77ms/step - loss: 0.4082 - iou_score: 0.5158 - val_loss: 0.4592 - val_iou_score: 0.5123 - lr: 5.0000e-04\n",
      "Epoch 18/100\n",
      "372/372 [==============================] - ETA: 0s - loss: 0.3702 - iou_score: 0.5386\n",
      "Epoch 18: val_iou_score improved from 0.51226 to 0.53114, saving model to models/U-Net - baseline + data-augmentation.keras\n",
      "372/372 [==============================] - 29s 77ms/step - loss: 0.3702 - iou_score: 0.5386 - val_loss: 0.4162 - val_iou_score: 0.5311 - lr: 1.0000e-04\n",
      "Epoch 19/100\n",
      "372/372 [==============================] - ETA: 0s - loss: 0.3622 - iou_score: 0.5431\n",
      "Epoch 19: val_iou_score improved from 0.53114 to 0.53340, saving model to models/U-Net - baseline + data-augmentation.keras\n",
      "372/372 [==============================] - 29s 77ms/step - loss: 0.3622 - iou_score: 0.5431 - val_loss: 0.4183 - val_iou_score: 0.5334 - lr: 1.0000e-04\n",
      "Epoch 20/100\n",
      "372/372 [==============================] - ETA: 0s - loss: 0.3594 - iou_score: 0.5455\n",
      "Epoch 20: val_iou_score improved from 0.53340 to 0.53409, saving model to models/U-Net - baseline + data-augmentation.keras\n",
      "372/372 [==============================] - 28s 76ms/step - loss: 0.3594 - iou_score: 0.5455 - val_loss: 0.4084 - val_iou_score: 0.5341 - lr: 1.0000e-04\n",
      "Epoch 21/100\n",
      "372/372 [==============================] - ETA: 0s - loss: 0.3577 - iou_score: 0.5459\n",
      "Epoch 21: val_iou_score improved from 0.53409 to 0.53967, saving model to models/U-Net - baseline + data-augmentation.keras\n",
      "372/372 [==============================] - 29s 77ms/step - loss: 0.3577 - iou_score: 0.5459 - val_loss: 0.4228 - val_iou_score: 0.5397 - lr: 1.0000e-04\n",
      "Epoch 22/100\n",
      "372/372 [==============================] - ETA: 0s - loss: 0.3540 - iou_score: 0.5490\n",
      "Epoch 22: val_iou_score did not improve from 0.53967\n",
      "372/372 [==============================] - 28s 76ms/step - loss: 0.3540 - iou_score: 0.5490 - val_loss: 0.4294 - val_iou_score: 0.5310 - lr: 1.0000e-04\n",
      "Epoch 23/100\n",
      "372/372 [==============================] - ETA: 0s - loss: 0.3489 - iou_score: 0.5511\n",
      "Epoch 23: val_iou_score did not improve from 0.53967\n",
      "372/372 [==============================] - 29s 77ms/step - loss: 0.3489 - iou_score: 0.5511 - val_loss: 0.4348 - val_iou_score: 0.5348 - lr: 1.0000e-04\n",
      "Epoch 24/100\n",
      "372/372 [==============================] - ETA: 0s - loss: 0.3441 - iou_score: 0.5538\n",
      "Epoch 24: val_iou_score improved from 0.53967 to 0.54100, saving model to models/U-Net - baseline + data-augmentation.keras\n",
      "372/372 [==============================] - 29s 78ms/step - loss: 0.3441 - iou_score: 0.5538 - val_loss: 0.4241 - val_iou_score: 0.5410 - lr: 2.0000e-05\n",
      "Epoch 25/100\n",
      "372/372 [==============================] - ETA: 0s - loss: 0.3411 - iou_score: 0.5571\n",
      "Epoch 25: val_iou_score improved from 0.54100 to 0.54215, saving model to models/U-Net - baseline + data-augmentation.keras\n",
      "Restoring model weights from the end of the best epoch: 18.\n",
      "372/372 [==============================] - 29s 79ms/step - loss: 0.3411 - iou_score: 0.5571 - val_loss: 0.4153 - val_iou_score: 0.5421 - lr: 2.0000e-05\n",
      "Epoch 25: early stopping\n"
     ]
    }
   ],
   "source": [
    "history = model.fit(\n",
    "    train_ds,\n",
    "    validation_data=valid_ds,\n",
    "    epochs=100,\n",
    "    batch_size=batch_size,\n",
    "    callbacks=init_callbacks(\"U-Net - baseline + data-augmentation\"),\n",
    "    # validation_split=0.2\n",
    ")"
   ]
  },
  {
   "cell_type": "code",
   "execution_count": 23,
   "id": "8006557c-43f9-4077-b997-fd282a50e349",
   "metadata": {
    "execution": {
     "iopub.execute_input": "2022-08-26T09:07:25.215720Z",
     "iopub.status.busy": "2022-08-26T09:07:25.215428Z",
     "iopub.status.idle": "2022-08-26T09:07:25.439637Z",
     "shell.execute_reply": "2022-08-26T09:07:25.439077Z",
     "shell.execute_reply.started": "2022-08-26T09:07:25.215700Z"
    },
    "tags": []
   },
   "outputs": [
    {
     "data": {
      "image/png": "[encoded data removed]",
      "text/plain": [
       "<Figure size 576x576 with 2 Axes>"
      ]
     },
     "metadata": {
      "needs_background": "light"
     },
     "output_type": "display_data"
    }
   ],
   "source": [
    "summarize_diagnostics(history)"
   ]
  },
  {
   "cell_type": "code",
   "execution_count": null,
   "id": "fe7324ff-9bc6-4760-836b-d9246e5698d6",
   "metadata": {
    "execution": {
     "iopub.status.busy": "2022-08-26T08:45:59.922272Z",
     "iopub.status.idle": "2022-08-26T08:45:59.922616Z",
     "shell.execute_reply": "2022-08-26T08:45:59.922498Z",
     "shell.execute_reply.started": "2022-08-26T08:45:59.922486Z"
    },
    "tags": []
   },
   "outputs": [],
   "source": [
    "STOP"
   ]
  },
  {
   "cell_type": "markdown",
   "id": "2196aead-be52-4696-8d4b-f228003f6c0e",
   "metadata": {
    "jp-MarkdownHeadingCollapsed": true,
    "tags": []
   },
   "source": [
    "# Modèle autre"
   ]
  },
  {
   "cell_type": "markdown",
   "id": "d28892dd-083d-4a7f-8d1c-b418b1d6d37c",
   "metadata": {},
   "source": [
    "### Définissons un pré-processing"
   ]
  },
  {
   "cell_type": "code",
   "execution_count": null,
   "id": "8f245dbd-74c3-4b7d-a248-4e475965525e",
   "metadata": {
    "execution": {
     "iopub.status.busy": "2022-08-26T08:27:36.414888Z",
     "iopub.status.idle": "2022-08-26T08:27:36.415287Z",
     "shell.execute_reply": "2022-08-26T08:27:36.415165Z",
     "shell.execute_reply.started": "2022-08-26T08:27:36.415152Z"
    },
    "tags": []
   },
   "outputs": [],
   "source": [
    "BACKBONE = 'vgg16'\n",
    "preprocess_input = sm.get_preprocessing(BACKBONE)"
   ]
  },
  {
   "cell_type": "markdown",
   "id": "1c0fdf32-e2fe-4d14-88b4-bb95e1e2b8b0",
   "metadata": {},
   "source": [
    "### Préparons les training et validation sets avec notre CustomDataGenerator"
   ]
  },
  {
   "cell_type": "code",
   "execution_count": null,
   "id": "d34ea6d3-8b6e-4854-bb62-195e188bc5ad",
   "metadata": {
    "execution": {
     "iopub.status.busy": "2022-08-26T08:27:36.416037Z",
     "iopub.status.idle": "2022-08-26T08:27:36.416424Z",
     "shell.execute_reply": "2022-08-26T08:27:36.416303Z",
     "shell.execute_reply.started": "2022-08-26T08:27:36.416290Z"
    },
    "tags": []
   },
   "outputs": [],
   "source": [
    "transform1 = A.Compose([\n",
    "    # A.RandomCrop(width=100, height=100),\n",
    "    A.HorizontalFlip(p=0.5),\n",
    "    # A.VerticalFlip(p=0.5),\n",
    "    # A.RandomRotate90(p=0.5),\n",
    "    A.Rotate(15, p=0.5),\n",
    "    # A.Transpose(p=0.5),\n",
    "    A.RandomBrightnessContrast(p=0.2),\n",
    "    A.Blur(p=0.01, blur_limit = 3),\n",
    "    # A.OneOf([\n",
    "    #        A.ElasticTransform(p=0.5, alpha=120, sigma=120 * 0.05, alpha_affine=120 * 0.03),\n",
    "    #        A.GridDistortion(p=0.5),\n",
    "    #        A.OpticalDistortion(p=1, distort_limit=2, shift_limit=0.5)                  \n",
    "    # ], p=0.5)\n",
    "])"
   ]
  },
  {
   "cell_type": "code",
   "execution_count": null,
   "id": "fe6034fd-b9c3-4f69-bf6c-b22008dd819e",
   "metadata": {
    "execution": {
     "iopub.status.busy": "2022-08-26T08:27:36.417148Z",
     "iopub.status.idle": "2022-08-26T08:27:36.417559Z",
     "shell.execute_reply": "2022-08-26T08:27:36.417423Z",
     "shell.execute_reply.started": "2022-08-26T08:27:36.417411Z"
    },
    "tags": []
   },
   "outputs": [],
   "source": [
    "batch_size = 8\n",
    "\n",
    "train_ds = CustomDataGenerator(\n",
    "    pathlib.Path('data','preprocessed','256x128', 'train'), \n",
    "    batch_size, \n",
    "    augmentation=None, # Pas d'augementations pour la baseline\n",
    "    preprocessing=preprocess_input, \n",
    "    shuffle=True,\n",
    "    verbose=0,\n",
    "    maxbatches=100,\n",
    ")\n",
    "\n",
    "valid_ds = CustomDataGenerator(\n",
    "    pathlib.Path('data','preprocessed','256x128', 'val'), \n",
    "    batch_size, \n",
    "    augmentation=None, \n",
    "    preprocessing=preprocess_input, \n",
    "    shuffle=True,\n",
    "    verbose=0,\n",
    "    maxbatches=100,\n",
    ")"
   ]
  },
  {
   "cell_type": "markdown",
   "id": "92f2afbc-1746-466a-b655-ea37a43c9470",
   "metadata": {},
   "source": [
    "### Définissons et entrainons un modèle"
   ]
  },
  {
   "cell_type": "code",
   "execution_count": null,
   "id": "ba8f505e-f511-491c-9092-5c4a8c2d37d9",
   "metadata": {
    "execution": {
     "iopub.status.busy": "2022-08-26T08:27:36.418279Z",
     "iopub.status.idle": "2022-08-26T08:27:36.418668Z",
     "shell.execute_reply": "2022-08-26T08:27:36.418546Z",
     "shell.execute_reply.started": "2022-08-26T08:27:36.418533Z"
    },
    "tags": []
   },
   "outputs": [],
   "source": [
    "f_opti = keras.optimizers.Adam(learning_rate=0.0005)\n",
    "f_loss = keras.losses.CategoricalCrossentropy(from_logits=False)\n",
    "# f_loss = sm.losses.bce_jaccard_loss\n",
    "f_metrics = [sm.metrics.iou_score]\n",
    "\n",
    "model = sm.Unet(BACKBONE, encoder_weights='imagenet', classes=8, activation='softmax')\n",
    "model.compile(\n",
    "    optimizer=f_opti,\n",
    "    loss=f_loss, # sm.losses.bce_jaccard_loss,\n",
    "    metrics=[sm.metrics.iou_score],\n",
    ")"
   ]
  },
  {
   "cell_type": "raw",
   "id": "a1ede8be-9fd2-4a2d-8e17-fd7499b4e7cc",
   "metadata": {},
   "source": [
    "model.summary()"
   ]
  },
  {
   "cell_type": "code",
   "execution_count": null,
   "id": "c4288905-b117-42e7-954a-7b8867c1d7c7",
   "metadata": {
    "execution": {
     "iopub.status.busy": "2022-08-26T08:27:36.419418Z",
     "iopub.status.idle": "2022-08-26T08:27:36.419802Z",
     "shell.execute_reply": "2022-08-26T08:27:36.419683Z",
     "shell.execute_reply.started": "2022-08-26T08:27:36.419671Z"
    },
    "tags": []
   },
   "outputs": [],
   "source": [
    "history = model.fit(\n",
    "    train_ds,\n",
    "    validation_data=valid_ds,\n",
    "    epochs=5,\n",
    "    batch_size=batch_size,\n",
    "    callbacks=init_callbacks(\"Unet - baseline\"),\n",
    "    # validation_split=0.2\n",
    ")"
   ]
  },
  {
   "cell_type": "code",
   "execution_count": null,
   "id": "fcac3622-a3ab-4186-8d17-b2a422c84935",
   "metadata": {
    "execution": {
     "iopub.status.busy": "2022-08-26T08:27:36.420523Z",
     "iopub.status.idle": "2022-08-26T08:27:36.420901Z",
     "shell.execute_reply": "2022-08-26T08:27:36.420782Z",
     "shell.execute_reply.started": "2022-08-26T08:27:36.420770Z"
    },
    "tags": []
   },
   "outputs": [],
   "source": [
    "summarize_diagnostics(history)"
   ]
  },
  {
   "cell_type": "code",
   "execution_count": null,
   "id": "99efd1a4-0873-4858-8004-64b17fd7ca44",
   "metadata": {},
   "outputs": [],
   "source": []
  }
 ],
 "metadata": {
  "kernelspec": {
   "display_name": "saturn (Python 3)",
   "language": "python",
   "name": "python3"
  },
  "language_info": {
   "codemirror_mode": {
    "name": "ipython",
    "version": 3
   },
   "file_extension": ".py",
   "mimetype": "text/x-python",
   "name": "python",
   "nbconvert_exporter": "python",
   "pygments_lexer": "ipython3",
   "version": "3.9.13"
  }
 },
 "nbformat": 4,
 "nbformat_minor": 5
}
