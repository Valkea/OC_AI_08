{
 "cells": [
  {
   "cell_type": "code",
   "execution_count": 1,
   "id": "b73f7508-94a9-4ad5-b40a-4f51a6cbd3b4",
   "metadata": {},
   "outputs": [],
   "source": [
    "import os\n",
    "import shutil\n",
    "import pathlib\n",
    "\n",
    "import numpy as np\n",
    "from zipfile import ZipFile\n",
    "from collections import defaultdict\n",
    "\n",
    "from PIL import Image"
   ]
  },
  {
   "cell_type": "code",
   "execution_count": 2,
   "id": "b9036684-7b35-42e0-9a2d-aceefccfe98a",
   "metadata": {},
   "outputs": [],
   "source": [
    "from data.labels import labels"
   ]
  },
  {
   "cell_type": "code",
   "execution_count": 3,
   "id": "8e105ef7-2fee-4053-9d3e-a72b9502c402",
   "metadata": {},
   "outputs": [
    {
     "name": "stdout",
     "output_type": "stream",
     "text": [
      "unlabeled             0 0 (0, 0, 0)\n",
      "ego vehicle           1 0 (0, 0, 0)\n",
      "rectification border  2 0 (0, 0, 0)\n",
      "out of roi            3 0 (0, 0, 0)\n",
      "static                4 0 (0, 0, 0)\n",
      "dynamic               5 0 (111, 74, 0)\n",
      "ground                6 0 (81, 0, 81)\n",
      "road                  7 1 (128, 64, 128)\n",
      "sidewalk              8 1 (244, 35, 232)\n",
      "parking               9 1 (250, 170, 160)\n",
      "rail track           10 1 (230, 150, 140)\n",
      "building             11 2 (70, 70, 70)\n",
      "wall                 12 2 (102, 102, 156)\n",
      "fence                13 2 (190, 153, 153)\n",
      "guard rail           14 2 (180, 165, 180)\n",
      "bridge               15 2 (150, 100, 100)\n",
      "tunnel               16 2 (150, 120, 90)\n",
      "pole                 17 3 (153, 153, 153)\n",
      "polegroup            18 3 (153, 153, 153)\n",
      "traffic light        19 3 (250, 170, 30)\n",
      "traffic sign         20 3 (220, 220, 0)\n",
      "vegetation           21 4 (107, 142, 35)\n",
      "terrain              22 4 (152, 251, 152)\n",
      "sky                  23 5 (70, 130, 180)\n",
      "person               24 6 (220, 20, 60)\n",
      "rider                25 6 (255, 0, 0)\n",
      "car                  26 7 (0, 0, 142)\n",
      "truck                27 7 (0, 0, 70)\n",
      "bus                  28 7 (0, 60, 100)\n",
      "caravan              29 7 (0, 0, 90)\n",
      "trailer              30 7 (0, 0, 110)\n",
      "train                31 7 (0, 80, 100)\n",
      "motorcycle           32 7 (0, 0, 230)\n",
      "bicycle              33 7 (119, 11, 32)\n",
      "license plate        -1 7 (0, 0, 142)\n"
     ]
    }
   ],
   "source": [
    "for row in labels:\n",
    "    row = row\n",
    "    print(f\"{row.name:20} {row.id:2} {row.categoryId:1} {row.color}\")"
   ]
  },
  {
   "cell_type": "code",
   "execution_count": 4,
   "id": "c8d352e9-901d-4a2f-a439-f30757a5fb49",
   "metadata": {},
   "outputs": [
    {
     "name": "stdout",
     "output_type": "stream",
     "text": [
      "{0: 0, 1: 0, 2: 0, 3: 0, 4: 0, 5: 0, 6: 0, 7: 1, 8: 1, 9: 1, 10: 1, 11: 2, 12: 2, 13: 2, 14: 2, 15: 2, 16: 2, 17: 3, 18: 3, 19: 3, 20: 3, 21: 4, 22: 4, 23: 5, 24: 6, 25: 6, 26: 7, 27: 7, 28: 7, 29: 7, 30: 7, 31: 7, 32: 7, 33: 7, -1: 7}\n"
     ]
    }
   ],
   "source": [
    "catId2Id = {}\n",
    "for row in labels:\n",
    "    #print(f\"{row.name:20} {row.id:2} {row.categoryId:1} {row.color}\")\n",
    "    catId2Id[row.id] = row.categoryId\n",
    "print(catId2Id)"
   ]
  },
  {
   "cell_type": "markdown",
   "id": "28449822-d425-48c8-bb9f-cb9292239681",
   "metadata": {},
   "source": [
    "## 1.1 Transfert des images sélectionnées <a class=\"anchor\" id=\"prepa_transfert\"></a> [⇪](#menu)"
   ]
  },
  {
   "cell_type": "code",
   "execution_count": 5,
   "id": "753e6bc9-142d-4406-a093-0b8d1aac6a9d",
   "metadata": {},
   "outputs": [],
   "source": [
    "rgb_src_path = pathlib.Path('data', 'P8_Cityscapes_leftImg8bit_trainvaltest.zip')\n",
    "ids_src_path = pathlib.Path('data', 'P8_Cityscapes_gtFine_trainvaltest.zip')\n",
    "new_path = pathlib.Path('data', 'preprocessed_256x128')"
   ]
  },
  {
   "cell_type": "markdown",
   "id": "25aadeda-414d-424c-83d8-1dc64171413a",
   "metadata": {},
   "source": [
    "#### On supprime un éventuel ancien dossier contenant les images"
   ]
  },
  {
   "cell_type": "raw",
   "id": "4817397d-1129-4316-b0e5-d461b93c7e05",
   "metadata": {},
   "source": [
    "shutil.rmtree(new_path)"
   ]
  },
  {
   "cell_type": "markdown",
   "id": "8caa134f-c998-4399-b7cd-21dc18fe14b6",
   "metadata": {},
   "source": [
    "#### On crée un dossier pour stocker les images sélectionnées et on y copie les images"
   ]
  },
  {
   "cell_type": "raw",
   "id": "00979028-e0cb-4ba5-9dcb-de2e5f76b7f6",
   "metadata": {},
   "source": [
    "os.mkdir(new_path)"
   ]
  },
  {
   "cell_type": "code",
   "execution_count": 6,
   "id": "553df677-ca09-4176-8457-cd89f02ecb2a",
   "metadata": {},
   "outputs": [
    {
     "name": "stdout",
     "output_type": "stream",
     "text": [
      "train_set: 2975 files\n",
      "val_set: 500 files\n"
     ]
    }
   ],
   "source": [
    "def get_files_list(zip_src_path):\n",
    "    \n",
    "    datasets = defaultdict(list)\n",
    "\n",
    "    with ZipFile(zip_src_path, 'r') as zipObj:\n",
    "        # Get list of files names in zip\n",
    "        listOfiles = zipObj.namelist()\n",
    "        # Iterate over the list of file names in given list & print them\n",
    "        \n",
    "        for elem in listOfiles:\n",
    "            if \".png\" in elem and \"test\" not in elem:\n",
    "                sp = elem.split('/')\n",
    "                source = sp[0]\n",
    "                dataset = sp[1]\n",
    "                city = sp[2]\n",
    "                img = sp[3][:sp[3].rindex('_')]\n",
    "                #print(f\"{source}<-->{dataset}<-->{city}<-->{img}\")\n",
    "                \n",
    "                datasets[dataset].append(img)\n",
    "                \n",
    "    for dataset in datasets:\n",
    "        print(f\"{dataset}_set: {len(datasets[dataset])} files\")\n",
    "    \n",
    "    return datasets\n",
    "    \n",
    "datasets = get_files_list(zip_src_path=rgb_src_path)"
   ]
  },
  {
   "cell_type": "code",
   "execution_count": 7,
   "id": "ed440ccd-d53f-4db2-bb1e-cd190e9746ca",
   "metadata": {},
   "outputs": [],
   "source": [
    "def preprocess_RGB_file(file, newsize):\n",
    "    image = Image.open(file)\n",
    "\n",
    "    # summarize some details about the image\n",
    "    # print(image.format)\n",
    "    # print(image.size)\n",
    "    # print(image.mode)\n",
    "    # print(newsize)\n",
    "    \n",
    "    new_image = image.resize(newsize)\n",
    "    return new_image"
   ]
  },
  {
   "cell_type": "code",
   "execution_count": 8,
   "id": "001e076b-d97e-4864-82cd-fd80f8f69b9b",
   "metadata": {},
   "outputs": [],
   "source": [
    "def preprocess_IDS_file(file, newsize):\n",
    "    image = Image.open(file)\n",
    "    \n",
    "    # summarize some details about the image\n",
    "    # print(image.format)\n",
    "    # print(image.size)\n",
    "    # print(image.mode)\n",
    "    \n",
    "    np_image = np.asarray(image)\n",
    "    np_image_converted = np.vectorize(catId2Id.get)(np_image)\n",
    "    \n",
    "    new_image = Image.fromarray(np.uint8(np_image_converted))\n",
    "    new_image = image.resize(newsize, Image.Resampling.NEAREST)\n",
    "    return new_image"
   ]
  },
  {
   "cell_type": "code",
   "execution_count": 10,
   "id": "68e83a98-c510-4485-b453-7a09a303d6a7",
   "metadata": {},
   "outputs": [
    {
     "name": "stdout",
     "output_type": "stream",
     "text": [
      "train_set: 2975 files preprocessed\n",
      "val_set: 500 files preprocessed\n"
     ]
    }
   ],
   "source": [
    "def preprocess_files(rbg_src_path, ids_src_path, datasets, output_path, newsize):\n",
    "    \n",
    "    #os.mkdir(new_path)\n",
    "    # On supprime un éventuel ancien dossier contenant les images\n",
    "    shutil.rmtree(output_path)\n",
    "    \n",
    "    with ZipFile(rbg_src_path, 'r') as RGBzipObj, ZipFile(ids_src_path, 'r') as IDSzipObj:\n",
    "            \n",
    "        for dataset in datasets:                \n",
    "            \n",
    "            # On crée un dossier pour stocker les images sélectionnées et on y copie les images\n",
    "            pathlib.Path(output_path, dataset).mkdir(parents=True, exist_ok=True)\n",
    "                         \n",
    "            count = 0\n",
    "            for img_name in datasets[dataset]:\n",
    "                city = img_name[:img_name.index('_')]\n",
    "                    \n",
    "                # Preprocess RGB files\n",
    "                srcRGB = pathlib.Path('leftImg8bit', dataset, city, f\"{img_name}_leftImg8bit.png\")\n",
    "                preprocessed = preprocess_RGB_file(RGBzipObj.extract(str(srcRGB)), newsize)\n",
    "                #preprocessed = preprocess_RGB_file(srcRGB, newsize)\n",
    "                preprocessed.save(pathlib.Path(output_path, dataset, f\"{img_name}.png\"))\n",
    "                    \n",
    "                # Preprocess LabelIds files\n",
    "                srcIDS = pathlib.Path('gtFine', dataset, city, f\"{img_name}_gtFine_labelIds.png\")\n",
    "                preprocessed = preprocess_IDS_file(IDSzipObj.extract(str(srcIDS)), newsize)\n",
    "                #preprocessed = preprocess_IDS_file(srcIDS, newsize)\n",
    "                preprocessed.save(pathlib.Path(output_path, dataset, f\"{img_name}_labels.png\"))\n",
    "                    \n",
    "                count += 1\n",
    "            print(f\"{dataset}_set: {count} files preprocessed\")\n",
    "                \n",
    "\n",
    "output_path = pathlib.Path('data', 'preprocessed_256x128')\n",
    "preprocess_files(rgb_src_path, ids_src_path, datasets, output_path, (256, 128))"
   ]
  },
  {
   "cell_type": "code",
   "execution_count": null,
   "id": "e94fc0b0-baa0-4e3e-8da8-6e118f0e7226",
   "metadata": {},
   "outputs": [],
   "source": []
  },
  {
   "cell_type": "code",
   "execution_count": null,
   "id": "fc9f27a8-2890-40dc-b9a2-cb95faf80b46",
   "metadata": {},
   "outputs": [],
   "source": []
  }
 ],
 "metadata": {
  "kernelspec": {
   "display_name": "venvP8",
   "language": "python",
   "name": "venvp8"
  },
  "language_info": {
   "codemirror_mode": {
    "name": "ipython",
    "version": 3
   },
   "file_extension": ".py",
   "mimetype": "text/x-python",
   "name": "python",
   "nbconvert_exporter": "python",
   "pygments_lexer": "ipython3",
   "version": "3.8.10"
  }
 },
 "nbformat": 4,
 "nbformat_minor": 5
}
